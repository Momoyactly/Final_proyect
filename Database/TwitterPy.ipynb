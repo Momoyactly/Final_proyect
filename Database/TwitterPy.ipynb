{
 "cells": [
  {
   "cell_type": "code",
   "execution_count": 1,
   "metadata": {
    "id": "aIPh4EolI06Q"
   },
   "outputs": [
    {
     "name": "stdout",
     "output_type": "stream",
     "text": [
      "Requirement already satisfied: tweepy in c:\\users\\ssses\\anaconda3\\lib\\site-packages (3.10.0)\n",
      "Requirement already satisfied: six>=1.10.0 in c:\\users\\ssses\\anaconda3\\lib\\site-packages (from tweepy) (1.15.0)\n",
      "Requirement already satisfied: requests[socks]>=2.11.1 in c:\\users\\ssses\\anaconda3\\lib\\site-packages (from tweepy) (2.24.0)\n",
      "Requirement already satisfied: requests-oauthlib>=0.7.0 in c:\\users\\ssses\\anaconda3\\lib\\site-packages (from tweepy) (1.3.0)\n",
      "Requirement already satisfied: certifi>=2017.4.17 in c:\\users\\ssses\\anaconda3\\lib\\site-packages (from requests[socks]>=2.11.1->tweepy) (2020.6.20)\n",
      "Requirement already satisfied: urllib3!=1.25.0,!=1.25.1,<1.26,>=1.21.1 in c:\\users\\ssses\\anaconda3\\lib\\site-packages (from requests[socks]>=2.11.1->tweepy) (1.25.11)\n",
      "Requirement already satisfied: idna<3,>=2.5 in c:\\users\\ssses\\anaconda3\\lib\\site-packages (from requests[socks]>=2.11.1->tweepy) (2.10)\n",
      "Requirement already satisfied: chardet<4,>=3.0.2 in c:\\users\\ssses\\anaconda3\\lib\\site-packages (from requests[socks]>=2.11.1->tweepy) (3.0.4)\n",
      "Requirement already satisfied: PySocks!=1.5.7,>=1.5.6; extra == \"socks\" in c:\\users\\ssses\\anaconda3\\lib\\site-packages (from requests[socks]>=2.11.1->tweepy) (1.7.1)\n",
      "Requirement already satisfied: oauthlib>=3.0.0 in c:\\users\\ssses\\anaconda3\\lib\\site-packages (from requests-oauthlib>=0.7.0->tweepy) (3.1.1)\n",
      "Note: you may need to restart the kernel to use updated packages.\n"
     ]
    }
   ],
   "source": [
    "pip install tweepy"
   ]
  },
  {
   "cell_type": "code",
   "execution_count": 2,
   "metadata": {
    "id": "kMA2YnVA7VHF"
   },
   "outputs": [],
   "source": [
    "# Dependencies and Setup\n",
    "import tweepy as tw\n",
    "from datetime import datetime,timedelta\n",
    "import csv\n",
    "import pandas as pd\n",
    "from api_keys import consumer_key\n",
    "from api_keys import consumer_secret\n",
    "from api_keys import access_token\n",
    "from api_keys import access_secret"
   ]
  },
  {
   "cell_type": "code",
   "execution_count": 4,
   "metadata": {
    "id": "itJe-h1B7av7"
   },
   "outputs": [],
   "source": [
    "auth = tw.OAuthHandler(consumer_key, consumer_secret)\n",
    "auth.set_access_token(access_token, access_secret)\n",
    "\n",
    "api = tw.API(auth)"
   ]
  },
  {
   "cell_type": "code",
   "execution_count": 11,
   "metadata": {},
   "outputs": [],
   "source": [
    "number_of_tweets = 100"
   ]
  },
  {
   "cell_type": "markdown",
   "metadata": {
    "id": "ILAouvjGLM6m"
   },
   "source": [
    "**Getting tweets**"
   ]
  },
  {
   "cell_type": "code",
   "execution_count": 7,
   "metadata": {
    "id": "tHN738tICWWp"
   },
   "outputs": [],
   "source": [
    "# Define function to get the tweets\n",
    "\n",
    "def get_tweets(search_words, date_since, language, number_of_items):\n",
    "    \n",
    "    tweets = tw.Cursor(api.search,\n",
    "              q=search_words,\n",
    "              lang=language,\n",
    "              since=date_since\n",
    "              ).items(number_of_items)\n",
    "    \n",
    "    tweet_list = []\n",
    "    for tweet in tweets:\n",
    "      tweet_list.append([tweet.created_at, tweet.text, tweet.id, tweet.retweet_count, \n",
    "                         tweet.favorite_count, tweet.coordinates, tweet.user.followers_count,tweet.user.friends_count])\n",
    "\n",
    "# Create dataframe\n",
    "    df = pd.DataFrame(tweet_list, columns=['Date', 'Tweet', 'Id', 'retweet_count', 'like_count',\n",
    "                                           'coordinates', 'followers_count','followees'])\n",
    "    return df"
   ]
  },
  {
   "cell_type": "code",
   "execution_count": 8,
   "metadata": {
    "colab": {
     "base_uri": "https://localhost:8080/",
     "height": 340
    },
    "id": "qVDwZRGDC54F",
    "outputId": "a367fdd2-3f03-47be-a63f-aff43aa99342"
   },
   "outputs": [],
   "source": [
    "# Call functions to create dataframes\n",
    "df1 = get_tweets(['Paramount'], '2021-08-16', 'es', number_of_tweets)\n",
    "df2 = get_tweets(['Disney Plus'], '2021-08-16', 'es', number_of_tweets)\n",
    "df3 = get_tweets(['Amazon Prime Video'], '2021-08-16', 'es', number_of_tweets)\n",
    "df4 = get_tweets(['HBO Max'], '2021-08-16', 'es', number_of_tweets)\n",
    "df5 = get_tweets(['Start'], '2021-08-16', 'es', number_of_tweets)\n",
    "df6 = get_tweets(['Apple TV'], '2021-08-16', 'es', number_of_tweets)\n",
    "df7 = get_tweets(['Netflix'], '2021-08-16', 'es', number_of_tweets)"
   ]
  },
  {
   "cell_type": "code",
   "execution_count": 9,
   "metadata": {
    "id": "VSfUxEZTDOkA"
   },
   "outputs": [],
   "source": [
    "# Concatenate dataframe\n",
    "frames = [df1, df2, df3, df4, df5, df6, df7]\n",
    "result = pd.concat(frames)"
   ]
  },
  {
   "cell_type": "code",
   "execution_count": 10,
   "metadata": {
    "id": "rc3qTjVjDTcq"
   },
   "outputs": [
    {
     "data": {
      "text/html": [
       "<div>\n",
       "<style scoped>\n",
       "    .dataframe tbody tr th:only-of-type {\n",
       "        vertical-align: middle;\n",
       "    }\n",
       "\n",
       "    .dataframe tbody tr th {\n",
       "        vertical-align: top;\n",
       "    }\n",
       "\n",
       "    .dataframe thead th {\n",
       "        text-align: right;\n",
       "    }\n",
       "</style>\n",
       "<table border=\"1\" class=\"dataframe\">\n",
       "  <thead>\n",
       "    <tr style=\"text-align: right;\">\n",
       "      <th></th>\n",
       "      <th>Date</th>\n",
       "      <th>Tweet</th>\n",
       "      <th>Id</th>\n",
       "      <th>retweet_count</th>\n",
       "      <th>like_count</th>\n",
       "      <th>coordinates</th>\n",
       "      <th>followers_count</th>\n",
       "      <th>followees</th>\n",
       "    </tr>\n",
       "  </thead>\n",
       "  <tbody>\n",
       "    <tr>\n",
       "      <th>0</th>\n",
       "      <td>2021-08-21 16:13:55</td>\n",
       "      <td>@jairoamelo Y no cuentas servicios como Paramo...</td>\n",
       "      <td>1429114551501349190</td>\n",
       "      <td>0</td>\n",
       "      <td>0</td>\n",
       "      <td>None</td>\n",
       "      <td>120</td>\n",
       "      <td>745</td>\n",
       "    </tr>\n",
       "    <tr>\n",
       "      <th>1</th>\n",
       "      <td>2021-08-21 16:12:47</td>\n",
       "      <td>@PrimeVideoMX @AmazonHelp \\nEn algún momento v...</td>\n",
       "      <td>1429114265621995524</td>\n",
       "      <td>0</td>\n",
       "      <td>0</td>\n",
       "      <td>None</td>\n",
       "      <td>22</td>\n",
       "      <td>163</td>\n",
       "    </tr>\n",
       "    <tr>\n",
       "      <th>2</th>\n",
       "      <td>2021-08-21 16:00:52</td>\n",
       "      <td>🤩 Preparate para disfrutar todo el contenido d...</td>\n",
       "      <td>1429111267701186564</td>\n",
       "      <td>0</td>\n",
       "      <td>0</td>\n",
       "      <td>None</td>\n",
       "      <td>90563</td>\n",
       "      <td>4775</td>\n",
       "    </tr>\n",
       "    <tr>\n",
       "      <th>3</th>\n",
       "      <td>2021-08-21 15:52:19</td>\n",
       "      <td>@LeandroTorrenti @sdalcolmo permiso pero en Pa...</td>\n",
       "      <td>1429109114785914882</td>\n",
       "      <td>0</td>\n",
       "      <td>1</td>\n",
       "      <td>None</td>\n",
       "      <td>35</td>\n",
       "      <td>148</td>\n",
       "    </tr>\n",
       "    <tr>\n",
       "      <th>4</th>\n",
       "      <td>2021-08-21 15:48:49</td>\n",
       "      <td>@buenapabailar Empecé a ver The Office en Para...</td>\n",
       "      <td>1429108235072589826</td>\n",
       "      <td>0</td>\n",
       "      <td>0</td>\n",
       "      <td>None</td>\n",
       "      <td>417</td>\n",
       "      <td>1536</td>\n",
       "    </tr>\n",
       "    <tr>\n",
       "      <th>...</th>\n",
       "      <td>...</td>\n",
       "      <td>...</td>\n",
       "      <td>...</td>\n",
       "      <td>...</td>\n",
       "      <td>...</td>\n",
       "      <td>...</td>\n",
       "      <td>...</td>\n",
       "      <td>...</td>\n",
       "    </tr>\n",
       "    <tr>\n",
       "      <th>95</th>\n",
       "      <td>2021-08-21 16:12:48</td>\n",
       "      <td>RT @lacecisss: @EAdeaz Eso se reflejan cuando ...</td>\n",
       "      <td>1429114271170846727</td>\n",
       "      <td>1</td>\n",
       "      <td>0</td>\n",
       "      <td>None</td>\n",
       "      <td>11</td>\n",
       "      <td>41</td>\n",
       "    </tr>\n",
       "    <tr>\n",
       "      <th>96</th>\n",
       "      <td>2021-08-21 16:12:44</td>\n",
       "      <td>Netflix muy interesante pero dame la renovación</td>\n",
       "      <td>1429114254762856448</td>\n",
       "      <td>0</td>\n",
       "      <td>0</td>\n",
       "      <td>None</td>\n",
       "      <td>1146</td>\n",
       "      <td>516</td>\n",
       "    </tr>\n",
       "    <tr>\n",
       "      <th>97</th>\n",
       "      <td>2021-08-21 16:12:23</td>\n",
       "      <td>RT @Iopezobra_: ¿Qué creen?\\nPor buena conduct...</td>\n",
       "      <td>1429114166074351622</td>\n",
       "      <td>142</td>\n",
       "      <td>0</td>\n",
       "      <td>None</td>\n",
       "      <td>65</td>\n",
       "      <td>535</td>\n",
       "    </tr>\n",
       "    <tr>\n",
       "      <th>98</th>\n",
       "      <td>2021-08-21 16:12:16</td>\n",
       "      <td>RT @levmauc: A un mes de que Netflix estrene M...</td>\n",
       "      <td>1429114136986800134</td>\n",
       "      <td>324</td>\n",
       "      <td>0</td>\n",
       "      <td>None</td>\n",
       "      <td>257</td>\n",
       "      <td>254</td>\n",
       "    </tr>\n",
       "    <tr>\n",
       "      <th>99</th>\n",
       "      <td>2021-08-21 16:12:15</td>\n",
       "      <td>La lluvia se presta para tomar mates todo el d...</td>\n",
       "      <td>1429114132813565955</td>\n",
       "      <td>0</td>\n",
       "      <td>1</td>\n",
       "      <td>None</td>\n",
       "      <td>793</td>\n",
       "      <td>732</td>\n",
       "    </tr>\n",
       "  </tbody>\n",
       "</table>\n",
       "<p>700 rows × 8 columns</p>\n",
       "</div>"
      ],
      "text/plain": [
       "                  Date                                              Tweet  \\\n",
       "0  2021-08-21 16:13:55  @jairoamelo Y no cuentas servicios como Paramo...   \n",
       "1  2021-08-21 16:12:47  @PrimeVideoMX @AmazonHelp \\nEn algún momento v...   \n",
       "2  2021-08-21 16:00:52  🤩 Preparate para disfrutar todo el contenido d...   \n",
       "3  2021-08-21 15:52:19  @LeandroTorrenti @sdalcolmo permiso pero en Pa...   \n",
       "4  2021-08-21 15:48:49  @buenapabailar Empecé a ver The Office en Para...   \n",
       "..                 ...                                                ...   \n",
       "95 2021-08-21 16:12:48  RT @lacecisss: @EAdeaz Eso se reflejan cuando ...   \n",
       "96 2021-08-21 16:12:44    Netflix muy interesante pero dame la renovación   \n",
       "97 2021-08-21 16:12:23  RT @Iopezobra_: ¿Qué creen?\\nPor buena conduct...   \n",
       "98 2021-08-21 16:12:16  RT @levmauc: A un mes de que Netflix estrene M...   \n",
       "99 2021-08-21 16:12:15  La lluvia se presta para tomar mates todo el d...   \n",
       "\n",
       "                     Id  retweet_count  like_count coordinates  \\\n",
       "0   1429114551501349190              0           0        None   \n",
       "1   1429114265621995524              0           0        None   \n",
       "2   1429111267701186564              0           0        None   \n",
       "3   1429109114785914882              0           1        None   \n",
       "4   1429108235072589826              0           0        None   \n",
       "..                  ...            ...         ...         ...   \n",
       "95  1429114271170846727              1           0        None   \n",
       "96  1429114254762856448              0           0        None   \n",
       "97  1429114166074351622            142           0        None   \n",
       "98  1429114136986800134            324           0        None   \n",
       "99  1429114132813565955              0           1        None   \n",
       "\n",
       "    followers_count  followees  \n",
       "0               120        745  \n",
       "1                22        163  \n",
       "2             90563       4775  \n",
       "3                35        148  \n",
       "4               417       1536  \n",
       "..              ...        ...  \n",
       "95               11         41  \n",
       "96             1146        516  \n",
       "97               65        535  \n",
       "98              257        254  \n",
       "99              793        732  \n",
       "\n",
       "[700 rows x 8 columns]"
      ]
     },
     "execution_count": 10,
     "metadata": {},
     "output_type": "execute_result"
    }
   ],
   "source": [
    "# Dataframe\n",
    "result"
   ]
  },
  {
   "cell_type": "code",
   "execution_count": 9,
   "metadata": {
    "id": "D7S3OhLLGgPd"
   },
   "outputs": [],
   "source": [
    "# Export to cvs sep without commas\n",
    "result.to_csv('tweets.csv', sep='|', index=False )"
   ]
  },
  {
   "cell_type": "markdown",
   "metadata": {},
   "source": [
    "**Previous steps**"
   ]
  },
  {
   "cell_type": "code",
   "execution_count": null,
   "metadata": {
    "id": "PwkV4qLZ7c0U"
   },
   "outputs": [],
   "source": [
    "#search_words = ['Netflix OR Paramount OR Disney Plus OR HBO Max OR Start OR Apple TV OR Amazon Prime Video']\n",
    "#search_words = ['Netflix']\n",
    "#date_since = \"2021-08-16\""
   ]
  },
  {
   "cell_type": "code",
   "execution_count": null,
   "metadata": {
    "id": "h-3BP46o7nBB"
   },
   "outputs": [],
   "source": [
    "#tweets = tw.Cursor(api.search,\n",
    "#              q=search_words,\n",
    "#              lang=\"es\",\n",
    "#              since=date_since,\n",
    "#              wait_on_rate_limit=True\n",
    "#              ).items(100)"
   ]
  },
  {
   "cell_type": "code",
   "execution_count": null,
   "metadata": {
    "id": "JCbN2ezRBSvB"
   },
   "outputs": [],
   "source": [
    "#tweet_list = []\n",
    "#with open('output2.csv', 'w') as f:\n",
    "#  writer = csv.writer(f, delimiter='|')\n",
    "#  for tweet in tweets:\n",
    "#    writer.writerow([tweet.created_at, tweet.text])\n",
    "#    tweet_list.append([tweet.created_at, tweet.text])"
   ]
  },
  {
   "cell_type": "code",
   "execution_count": null,
   "metadata": {},
   "outputs": [],
   "source": [
    "#tweet_list = []\n",
    "#for tweet in tweets:\n",
    "#  tweet_list.append([tweet.created_at, tweet.text])"
   ]
  },
  {
   "cell_type": "code",
   "execution_count": null,
   "metadata": {
    "id": "DScGBsSt-Xs9"
   },
   "outputs": [],
   "source": [
    "#df = pd.DataFrame(tweet_list, columns=['Date', 'Tweet'])"
   ]
  },
  {
   "cell_type": "code",
   "execution_count": null,
   "metadata": {
    "id": "PF8FBazO9e3K"
   },
   "outputs": [],
   "source": [
    "#df.head"
   ]
  },
  {
   "cell_type": "code",
   "execution_count": null,
   "metadata": {
    "id": "H9M0eYfHBe5C"
   },
   "outputs": [],
   "source": [
    "#search_words = ['Paramount']\n",
    "#date_since = \"2021-08-16\""
   ]
  },
  {
   "cell_type": "code",
   "execution_count": null,
   "metadata": {
    "id": "VX_0K4XbBkID"
   },
   "outputs": [],
   "source": [
    "#tweets = tw.Cursor(api.search,\n",
    "#              q=search_words,\n",
    "#              lang=\"es\",\n",
    "#              since=date_since\n",
    "#              ).items(1000)"
   ]
  },
  {
   "cell_type": "code",
   "execution_count": null,
   "metadata": {
    "id": "MDWD--N9BmMA"
   },
   "outputs": [],
   "source": [
    "#tweet_list = []\n",
    "#for tweet in tweets:\n",
    "#  tweet_list.append([tweet.created_at, tweet.text])"
   ]
  },
  {
   "cell_type": "code",
   "execution_count": null,
   "metadata": {
    "id": "uWimuBXxBned"
   },
   "outputs": [],
   "source": [
    "#df2 = pd.DataFrame(tweet_list, columns=['Date', 'Tweet'])"
   ]
  },
  {
   "cell_type": "code",
   "execution_count": null,
   "metadata": {
    "id": "xDwiCdo9BoZc"
   },
   "outputs": [],
   "source": [
    "#frames = [df, df2]\n",
    "#result = pd.concat(frames)"
   ]
  },
  {
   "cell_type": "code",
   "execution_count": null,
   "metadata": {
    "colab": {
     "base_uri": "https://localhost:8080/",
     "height": 419
    },
    "id": "5yRIUVhUBxab",
    "outputId": "c6f42117-d0a6-4b23-b8c9-309d5aa3d5d3"
   },
   "outputs": [
    {
     "data": {
      "text/html": [
       "<div>\n",
       "<style scoped>\n",
       "    .dataframe tbody tr th:only-of-type {\n",
       "        vertical-align: middle;\n",
       "    }\n",
       "\n",
       "    .dataframe tbody tr th {\n",
       "        vertical-align: top;\n",
       "    }\n",
       "\n",
       "    .dataframe thead th {\n",
       "        text-align: right;\n",
       "    }\n",
       "</style>\n",
       "<table border=\"1\" class=\"dataframe\">\n",
       "  <thead>\n",
       "    <tr style=\"text-align: right;\">\n",
       "      <th></th>\n",
       "      <th>Date</th>\n",
       "      <th>Tweet</th>\n",
       "    </tr>\n",
       "  </thead>\n",
       "  <tbody>\n",
       "    <tr>\n",
       "      <th>0</th>\n",
       "      <td>2021-08-21 04:33:06</td>\n",
       "      <td>☀️ Zenimation de Disney+ convierte escenas clá...</td>\n",
       "    </tr>\n",
       "    <tr>\n",
       "      <th>1</th>\n",
       "      <td>2021-08-21 04:25:01</td>\n",
       "      <td>Soy yo o la plataforma de disney plus está bie...</td>\n",
       "    </tr>\n",
       "    <tr>\n",
       "      <th>2</th>\n",
       "      <td>2021-08-21 04:17:14</td>\n",
       "      <td>Amix, préstenme su cuenta de Disney plus y la ...</td>\n",
       "    </tr>\n",
       "    <tr>\n",
       "      <th>3</th>\n",
       "      <td>2021-08-21 04:16:30</td>\n",
       "      <td>Una no puede ver una película online porque te...</td>\n",
       "    </tr>\n",
       "    <tr>\n",
       "      <th>4</th>\n",
       "      <td>2021-08-21 04:13:56</td>\n",
       "      <td>@jungkookanojo omgg yo ahora veo star vs las f...</td>\n",
       "    </tr>\n",
       "    <tr>\n",
       "      <th>...</th>\n",
       "      <td>...</td>\n",
       "      <td>...</td>\n",
       "    </tr>\n",
       "    <tr>\n",
       "      <th>995</th>\n",
       "      <td>2021-08-18 12:34:28</td>\n",
       "      <td>Que las marcas que hayan elegido para represen...</td>\n",
       "    </tr>\n",
       "    <tr>\n",
       "      <th>996</th>\n",
       "      <td>2021-08-18 12:34:25</td>\n",
       "      <td>@JorgeRieraLopez No parece. Vendrá todo aquí, ...</td>\n",
       "    </tr>\n",
       "    <tr>\n",
       "      <th>997</th>\n",
       "      <td>2021-08-18 12:33:51</td>\n",
       "      <td>RT @enekoruizj: En 2022, tenemos nueva platafo...</td>\n",
       "    </tr>\n",
       "    <tr>\n",
       "      <th>998</th>\n",
       "      <td>2021-08-18 12:33:37</td>\n",
       "      <td>El servicio de streaming SkyShowtime llegará a...</td>\n",
       "    </tr>\n",
       "    <tr>\n",
       "      <th>999</th>\n",
       "      <td>2021-08-18 12:33:36</td>\n",
       "      <td>RT @MissMacGuffin: El plot twist del verano en...</td>\n",
       "    </tr>\n",
       "  </tbody>\n",
       "</table>\n",
       "<p>2000 rows × 2 columns</p>\n",
       "</div>"
      ],
      "text/plain": [
       "                   Date                                              Tweet\n",
       "0   2021-08-21 04:33:06  ☀️ Zenimation de Disney+ convierte escenas clá...\n",
       "1   2021-08-21 04:25:01  Soy yo o la plataforma de disney plus está bie...\n",
       "2   2021-08-21 04:17:14  Amix, préstenme su cuenta de Disney plus y la ...\n",
       "3   2021-08-21 04:16:30  Una no puede ver una película online porque te...\n",
       "4   2021-08-21 04:13:56  @jungkookanojo omgg yo ahora veo star vs las f...\n",
       "..                  ...                                                ...\n",
       "995 2021-08-18 12:34:28  Que las marcas que hayan elegido para represen...\n",
       "996 2021-08-18 12:34:25  @JorgeRieraLopez No parece. Vendrá todo aquí, ...\n",
       "997 2021-08-18 12:33:51  RT @enekoruizj: En 2022, tenemos nueva platafo...\n",
       "998 2021-08-18 12:33:37  El servicio de streaming SkyShowtime llegará a...\n",
       "999 2021-08-18 12:33:36  RT @MissMacGuffin: El plot twist del verano en...\n",
       "\n",
       "[2000 rows x 2 columns]"
      ]
     },
     "execution_count": 60,
     "metadata": {},
     "output_type": "execute_result"
    }
   ],
   "source": [
    "#result"
   ]
  }
 ],
 "metadata": {
  "colab": {
   "collapsed_sections": [],
   "name": "Copia de BBProyecto.ipynb",
   "provenance": []
  },
  "kernelspec": {
   "display_name": "Python 3",
   "language": "python",
   "name": "python3"
  },
  "language_info": {
   "codemirror_mode": {
    "name": "ipython",
    "version": 3
   },
   "file_extension": ".py",
   "mimetype": "text/x-python",
   "name": "python",
   "nbconvert_exporter": "python",
   "pygments_lexer": "ipython3",
   "version": "3.8.5"
  }
 },
 "nbformat": 4,
 "nbformat_minor": 1
}
