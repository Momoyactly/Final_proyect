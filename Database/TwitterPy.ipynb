{
 "cells": [
  {
   "cell_type": "code",
   "execution_count": 1,
   "metadata": {
    "id": "aIPh4EolI06Q"
   },
   "outputs": [
    {
     "name": "stdout",
     "output_type": "stream",
     "text": [
      "Requirement already satisfied: tweepy in c:\\users\\ssses\\anaconda3\\lib\\site-packages (3.10.0)\n",
      "Requirement already satisfied: requests-oauthlib>=0.7.0 in c:\\users\\ssses\\anaconda3\\lib\\site-packages (from tweepy) (1.3.0)\n",
      "Requirement already satisfied: six>=1.10.0 in c:\\users\\ssses\\anaconda3\\lib\\site-packages (from tweepy) (1.15.0)\n",
      "Requirement already satisfied: requests[socks]>=2.11.1 in c:\\users\\ssses\\anaconda3\\lib\\site-packages (from tweepy) (2.24.0)\n",
      "Requirement already satisfied: oauthlib>=3.0.0 in c:\\users\\ssses\\anaconda3\\lib\\site-packages (from requests-oauthlib>=0.7.0->tweepy) (3.1.1)\n",
      "Requirement already satisfied: chardet<4,>=3.0.2 in c:\\users\\ssses\\anaconda3\\lib\\site-packages (from requests[socks]>=2.11.1->tweepy) (3.0.4)\n",
      "Requirement already satisfied: urllib3!=1.25.0,!=1.25.1,<1.26,>=1.21.1 in c:\\users\\ssses\\anaconda3\\lib\\site-packages (from requests[socks]>=2.11.1->tweepy) (1.25.11)\n",
      "Requirement already satisfied: idna<3,>=2.5 in c:\\users\\ssses\\anaconda3\\lib\\site-packages (from requests[socks]>=2.11.1->tweepy) (2.10)\n",
      "Requirement already satisfied: certifi>=2017.4.17 in c:\\users\\ssses\\anaconda3\\lib\\site-packages (from requests[socks]>=2.11.1->tweepy) (2020.6.20)\n",
      "Requirement already satisfied: PySocks!=1.5.7,>=1.5.6; extra == \"socks\" in c:\\users\\ssses\\anaconda3\\lib\\site-packages (from requests[socks]>=2.11.1->tweepy) (1.7.1)\n",
      "Note: you may need to restart the kernel to use updated packages.\n"
     ]
    }
   ],
   "source": [
    "pip install tweepy"
   ]
  },
  {
   "cell_type": "code",
   "execution_count": 3,
   "metadata": {
    "id": "kMA2YnVA7VHF"
   },
   "outputs": [],
   "source": [
    "# Dependencies and Setup\n",
    "import tweepy as tw\n",
    "from datetime import datetime,timedelta\n",
    "import csv\n",
    "import pandas as pd\n",
    "from api_keys import consumer_key\n",
    "from api_keys import consumer_secret\n",
    "from api_keys import access_token\n",
    "from api_keys import access_secret"
   ]
  },
  {
   "cell_type": "code",
   "execution_count": 16,
   "metadata": {
    "id": "itJe-h1B7av7"
   },
   "outputs": [],
   "source": [
    "auth = tw.OAuthHandler(consumer_key, consumer_secret)\n",
    "auth.set_access_token(access_token, access_secret)\n",
    "\n",
    "api = tw.API(auth)"
   ]
  },
  {
   "cell_type": "code",
   "execution_count": 17,
   "metadata": {},
   "outputs": [],
   "source": [
    "number_of_tweets = 100"
   ]
  },
  {
   "cell_type": "markdown",
   "metadata": {
    "id": "ILAouvjGLM6m"
   },
   "source": [
    "**Getting tweets**"
   ]
  },
  {
   "cell_type": "code",
   "execution_count": 50,
   "metadata": {
    "id": "tHN738tICWWp"
   },
   "outputs": [],
   "source": [
    "# Define function to get the tweets\n",
    "\n",
    "def get_tweets(search_words, date_since, language, number_of_items):\n",
    "    \n",
    "    tweets = tw.Cursor(api.search,\n",
    "              q=search_words,\n",
    "              lang=language,\n",
    "              since=date_since\n",
    "              ).items(number_of_items)\n",
    "    \n",
    "    tweet_list = []\n",
    "    for tweet in tweets:\n",
    "      tweet_list.append([tweet.created_at, tweet.text, tweet.id, tweet.user.screen_name,tweet.user.verified, tweet.retweet_count, \n",
    "                         tweet.favorite_count, tweet.user.followers_count,\n",
    "                         tweet.user.friends_count, tweet.user.location])\n",
    "\n",
    "# Create dataframe\n",
    "    df = pd.DataFrame(tweet_list, columns=['Date', 'Tweet', 'Id', 'User_name', 'Verified', 'retweet_count', 'like_count',\n",
    "                                           'followers_count','followees', 'location'])\n",
    "    return df"
   ]
  },
  {
   "cell_type": "code",
   "execution_count": 51,
   "metadata": {
    "colab": {
     "base_uri": "https://localhost:8080/",
     "height": 340
    },
    "id": "qVDwZRGDC54F",
    "outputId": "a367fdd2-3f03-47be-a63f-aff43aa99342"
   },
   "outputs": [
    {
     "ename": "TweepError",
     "evalue": "Twitter error response: status code = 429",
     "output_type": "error",
     "traceback": [
      "\u001b[1;31m---------------------------------------------------------------------------\u001b[0m",
      "\u001b[1;31mTweepError\u001b[0m                                Traceback (most recent call last)",
      "\u001b[1;32m<ipython-input-51-55b6e910d9f5>\u001b[0m in \u001b[0;36m<module>\u001b[1;34m\u001b[0m\n\u001b[0;32m      2\u001b[0m \u001b[0mdf1\u001b[0m \u001b[1;33m=\u001b[0m \u001b[0mget_tweets\u001b[0m\u001b[1;33m(\u001b[0m\u001b[1;33m[\u001b[0m\u001b[1;34m'Paramount'\u001b[0m\u001b[1;33m]\u001b[0m\u001b[1;33m,\u001b[0m \u001b[1;34m'2021-08-16'\u001b[0m\u001b[1;33m,\u001b[0m \u001b[1;34m'es'\u001b[0m\u001b[1;33m,\u001b[0m \u001b[0mnumber_of_tweets\u001b[0m\u001b[1;33m)\u001b[0m\u001b[1;33m\u001b[0m\u001b[1;33m\u001b[0m\u001b[0m\n\u001b[0;32m      3\u001b[0m \u001b[0mdf2\u001b[0m \u001b[1;33m=\u001b[0m \u001b[0mget_tweets\u001b[0m\u001b[1;33m(\u001b[0m\u001b[1;33m[\u001b[0m\u001b[1;34m'Disney Plus'\u001b[0m\u001b[1;33m]\u001b[0m\u001b[1;33m,\u001b[0m \u001b[1;34m'2021-08-16'\u001b[0m\u001b[1;33m,\u001b[0m \u001b[1;34m'es'\u001b[0m\u001b[1;33m,\u001b[0m \u001b[0mnumber_of_tweets\u001b[0m\u001b[1;33m)\u001b[0m\u001b[1;33m\u001b[0m\u001b[1;33m\u001b[0m\u001b[0m\n\u001b[1;32m----> 4\u001b[1;33m \u001b[0mdf3\u001b[0m \u001b[1;33m=\u001b[0m \u001b[0mget_tweets\u001b[0m\u001b[1;33m(\u001b[0m\u001b[1;33m[\u001b[0m\u001b[1;34m'Amazon Prime Video'\u001b[0m\u001b[1;33m]\u001b[0m\u001b[1;33m,\u001b[0m \u001b[1;34m'2021-08-16'\u001b[0m\u001b[1;33m,\u001b[0m \u001b[1;34m'es'\u001b[0m\u001b[1;33m,\u001b[0m \u001b[0mnumber_of_tweets\u001b[0m\u001b[1;33m)\u001b[0m\u001b[1;33m\u001b[0m\u001b[1;33m\u001b[0m\u001b[0m\n\u001b[0m\u001b[0;32m      5\u001b[0m \u001b[0mdf4\u001b[0m \u001b[1;33m=\u001b[0m \u001b[0mget_tweets\u001b[0m\u001b[1;33m(\u001b[0m\u001b[1;33m[\u001b[0m\u001b[1;34m'HBO Max'\u001b[0m\u001b[1;33m]\u001b[0m\u001b[1;33m,\u001b[0m \u001b[1;34m'2021-08-16'\u001b[0m\u001b[1;33m,\u001b[0m \u001b[1;34m'es'\u001b[0m\u001b[1;33m,\u001b[0m \u001b[0mnumber_of_tweets\u001b[0m\u001b[1;33m)\u001b[0m\u001b[1;33m\u001b[0m\u001b[1;33m\u001b[0m\u001b[0m\n\u001b[0;32m      6\u001b[0m \u001b[0mdf5\u001b[0m \u001b[1;33m=\u001b[0m \u001b[0mget_tweets\u001b[0m\u001b[1;33m(\u001b[0m\u001b[1;33m[\u001b[0m\u001b[1;34m'Start'\u001b[0m\u001b[1;33m]\u001b[0m\u001b[1;33m,\u001b[0m \u001b[1;34m'2021-08-16'\u001b[0m\u001b[1;33m,\u001b[0m \u001b[1;34m'es'\u001b[0m\u001b[1;33m,\u001b[0m \u001b[0mnumber_of_tweets\u001b[0m\u001b[1;33m)\u001b[0m\u001b[1;33m\u001b[0m\u001b[1;33m\u001b[0m\u001b[0m\n",
      "\u001b[1;32m<ipython-input-50-a3aa21b8c591>\u001b[0m in \u001b[0;36mget_tweets\u001b[1;34m(search_words, date_since, language, number_of_items)\u001b[0m\n\u001b[0;32m     10\u001b[0m \u001b[1;33m\u001b[0m\u001b[0m\n\u001b[0;32m     11\u001b[0m     \u001b[0mtweet_list\u001b[0m \u001b[1;33m=\u001b[0m \u001b[1;33m[\u001b[0m\u001b[1;33m]\u001b[0m\u001b[1;33m\u001b[0m\u001b[1;33m\u001b[0m\u001b[0m\n\u001b[1;32m---> 12\u001b[1;33m     \u001b[1;32mfor\u001b[0m \u001b[0mtweet\u001b[0m \u001b[1;32min\u001b[0m \u001b[0mtweets\u001b[0m\u001b[1;33m:\u001b[0m\u001b[1;33m\u001b[0m\u001b[1;33m\u001b[0m\u001b[0m\n\u001b[0m\u001b[0;32m     13\u001b[0m       tweet_list.append([tweet.created_at, tweet.text, tweet.id, tweet.user.screen_name,tweet.user.verified, tweet.retweet_count, \n\u001b[0;32m     14\u001b[0m                          \u001b[0mtweet\u001b[0m\u001b[1;33m.\u001b[0m\u001b[0mfavorite_count\u001b[0m\u001b[1;33m,\u001b[0m \u001b[0mtweet\u001b[0m\u001b[1;33m.\u001b[0m\u001b[0muser\u001b[0m\u001b[1;33m.\u001b[0m\u001b[0mfollowers_count\u001b[0m\u001b[1;33m,\u001b[0m\u001b[1;33m\u001b[0m\u001b[1;33m\u001b[0m\u001b[0m\n",
      "\u001b[1;32m~\\anaconda3\\lib\\site-packages\\tweepy\\cursor.py\u001b[0m in \u001b[0;36m__next__\u001b[1;34m(self)\u001b[0m\n\u001b[0;32m     49\u001b[0m \u001b[1;33m\u001b[0m\u001b[0m\n\u001b[0;32m     50\u001b[0m     \u001b[1;32mdef\u001b[0m \u001b[0m__next__\u001b[0m\u001b[1;33m(\u001b[0m\u001b[0mself\u001b[0m\u001b[1;33m)\u001b[0m\u001b[1;33m:\u001b[0m\u001b[1;33m\u001b[0m\u001b[1;33m\u001b[0m\u001b[0m\n\u001b[1;32m---> 51\u001b[1;33m         \u001b[1;32mreturn\u001b[0m \u001b[0mself\u001b[0m\u001b[1;33m.\u001b[0m\u001b[0mnext\u001b[0m\u001b[1;33m(\u001b[0m\u001b[1;33m)\u001b[0m\u001b[1;33m\u001b[0m\u001b[1;33m\u001b[0m\u001b[0m\n\u001b[0m\u001b[0;32m     52\u001b[0m \u001b[1;33m\u001b[0m\u001b[0m\n\u001b[0;32m     53\u001b[0m     \u001b[1;32mdef\u001b[0m \u001b[0mnext\u001b[0m\u001b[1;33m(\u001b[0m\u001b[0mself\u001b[0m\u001b[1;33m)\u001b[0m\u001b[1;33m:\u001b[0m\u001b[1;33m\u001b[0m\u001b[1;33m\u001b[0m\u001b[0m\n",
      "\u001b[1;32m~\\anaconda3\\lib\\site-packages\\tweepy\\cursor.py\u001b[0m in \u001b[0;36mnext\u001b[1;34m(self)\u001b[0m\n\u001b[0;32m    241\u001b[0m         \u001b[1;32mif\u001b[0m \u001b[0mself\u001b[0m\u001b[1;33m.\u001b[0m\u001b[0mcurrent_page\u001b[0m \u001b[1;32mis\u001b[0m \u001b[1;32mNone\u001b[0m \u001b[1;32mor\u001b[0m \u001b[0mself\u001b[0m\u001b[1;33m.\u001b[0m\u001b[0mpage_index\u001b[0m \u001b[1;33m==\u001b[0m \u001b[0mlen\u001b[0m\u001b[1;33m(\u001b[0m\u001b[0mself\u001b[0m\u001b[1;33m.\u001b[0m\u001b[0mcurrent_page\u001b[0m\u001b[1;33m)\u001b[0m \u001b[1;33m-\u001b[0m \u001b[1;36m1\u001b[0m\u001b[1;33m:\u001b[0m\u001b[1;33m\u001b[0m\u001b[1;33m\u001b[0m\u001b[0m\n\u001b[0;32m    242\u001b[0m             \u001b[1;31m# Reached end of current page, get the next page...\u001b[0m\u001b[1;33m\u001b[0m\u001b[1;33m\u001b[0m\u001b[1;33m\u001b[0m\u001b[0m\n\u001b[1;32m--> 243\u001b[1;33m             \u001b[0mself\u001b[0m\u001b[1;33m.\u001b[0m\u001b[0mcurrent_page\u001b[0m \u001b[1;33m=\u001b[0m \u001b[0mself\u001b[0m\u001b[1;33m.\u001b[0m\u001b[0mpage_iterator\u001b[0m\u001b[1;33m.\u001b[0m\u001b[0mnext\u001b[0m\u001b[1;33m(\u001b[0m\u001b[1;33m)\u001b[0m\u001b[1;33m\u001b[0m\u001b[1;33m\u001b[0m\u001b[0m\n\u001b[0m\u001b[0;32m    244\u001b[0m             \u001b[1;32mwhile\u001b[0m \u001b[0mlen\u001b[0m\u001b[1;33m(\u001b[0m\u001b[0mself\u001b[0m\u001b[1;33m.\u001b[0m\u001b[0mcurrent_page\u001b[0m\u001b[1;33m)\u001b[0m \u001b[1;33m==\u001b[0m \u001b[1;36m0\u001b[0m\u001b[1;33m:\u001b[0m\u001b[1;33m\u001b[0m\u001b[1;33m\u001b[0m\u001b[0m\n\u001b[0;32m    245\u001b[0m                 \u001b[0mself\u001b[0m\u001b[1;33m.\u001b[0m\u001b[0mcurrent_page\u001b[0m \u001b[1;33m=\u001b[0m \u001b[0mself\u001b[0m\u001b[1;33m.\u001b[0m\u001b[0mpage_iterator\u001b[0m\u001b[1;33m.\u001b[0m\u001b[0mnext\u001b[0m\u001b[1;33m(\u001b[0m\u001b[1;33m)\u001b[0m\u001b[1;33m\u001b[0m\u001b[1;33m\u001b[0m\u001b[0m\n",
      "\u001b[1;32m~\\anaconda3\\lib\\site-packages\\tweepy\\cursor.py\u001b[0m in \u001b[0;36mnext\u001b[1;34m(self)\u001b[0m\n\u001b[0;32m    130\u001b[0m \u001b[1;33m\u001b[0m\u001b[0m\n\u001b[0;32m    131\u001b[0m         \u001b[1;32mif\u001b[0m \u001b[0mself\u001b[0m\u001b[1;33m.\u001b[0m\u001b[0mindex\u001b[0m \u001b[1;33m>=\u001b[0m \u001b[0mlen\u001b[0m\u001b[1;33m(\u001b[0m\u001b[0mself\u001b[0m\u001b[1;33m.\u001b[0m\u001b[0mresults\u001b[0m\u001b[1;33m)\u001b[0m \u001b[1;33m-\u001b[0m \u001b[1;36m1\u001b[0m\u001b[1;33m:\u001b[0m\u001b[1;33m\u001b[0m\u001b[1;33m\u001b[0m\u001b[0m\n\u001b[1;32m--> 132\u001b[1;33m             \u001b[0mdata\u001b[0m \u001b[1;33m=\u001b[0m \u001b[0mself\u001b[0m\u001b[1;33m.\u001b[0m\u001b[0mmethod\u001b[0m\u001b[1;33m(\u001b[0m\u001b[0mmax_id\u001b[0m\u001b[1;33m=\u001b[0m\u001b[0mself\u001b[0m\u001b[1;33m.\u001b[0m\u001b[0mmax_id\u001b[0m\u001b[1;33m,\u001b[0m \u001b[0mparser\u001b[0m\u001b[1;33m=\u001b[0m\u001b[0mRawParser\u001b[0m\u001b[1;33m(\u001b[0m\u001b[1;33m)\u001b[0m\u001b[1;33m,\u001b[0m \u001b[1;33m*\u001b[0m\u001b[0mself\u001b[0m\u001b[1;33m.\u001b[0m\u001b[0margs\u001b[0m\u001b[1;33m,\u001b[0m \u001b[1;33m**\u001b[0m\u001b[0mself\u001b[0m\u001b[1;33m.\u001b[0m\u001b[0mkwargs\u001b[0m\u001b[1;33m)\u001b[0m\u001b[1;33m\u001b[0m\u001b[1;33m\u001b[0m\u001b[0m\n\u001b[0m\u001b[0;32m    133\u001b[0m \u001b[1;33m\u001b[0m\u001b[0m\n\u001b[0;32m    134\u001b[0m             \u001b[1;32mif\u001b[0m \u001b[0mhasattr\u001b[0m\u001b[1;33m(\u001b[0m\u001b[0mself\u001b[0m\u001b[1;33m.\u001b[0m\u001b[0mmethod\u001b[0m\u001b[1;33m,\u001b[0m \u001b[1;34m'__self__'\u001b[0m\u001b[1;33m)\u001b[0m\u001b[1;33m:\u001b[0m\u001b[1;33m\u001b[0m\u001b[1;33m\u001b[0m\u001b[0m\n",
      "\u001b[1;32m~\\anaconda3\\lib\\site-packages\\tweepy\\binder.py\u001b[0m in \u001b[0;36m_call\u001b[1;34m(*args, **kwargs)\u001b[0m\n\u001b[0;32m    251\u001b[0m                 \u001b[1;32mreturn\u001b[0m \u001b[0mmethod\u001b[0m\u001b[1;33m\u001b[0m\u001b[1;33m\u001b[0m\u001b[0m\n\u001b[0;32m    252\u001b[0m             \u001b[1;32melse\u001b[0m\u001b[1;33m:\u001b[0m\u001b[1;33m\u001b[0m\u001b[1;33m\u001b[0m\u001b[0m\n\u001b[1;32m--> 253\u001b[1;33m                 \u001b[1;32mreturn\u001b[0m \u001b[0mmethod\u001b[0m\u001b[1;33m.\u001b[0m\u001b[0mexecute\u001b[0m\u001b[1;33m(\u001b[0m\u001b[1;33m)\u001b[0m\u001b[1;33m\u001b[0m\u001b[1;33m\u001b[0m\u001b[0m\n\u001b[0m\u001b[0;32m    254\u001b[0m         \u001b[1;32mfinally\u001b[0m\u001b[1;33m:\u001b[0m\u001b[1;33m\u001b[0m\u001b[1;33m\u001b[0m\u001b[0m\n\u001b[0;32m    255\u001b[0m             \u001b[0mmethod\u001b[0m\u001b[1;33m.\u001b[0m\u001b[0msession\u001b[0m\u001b[1;33m.\u001b[0m\u001b[0mclose\u001b[0m\u001b[1;33m(\u001b[0m\u001b[1;33m)\u001b[0m\u001b[1;33m\u001b[0m\u001b[1;33m\u001b[0m\u001b[0m\n",
      "\u001b[1;32m~\\anaconda3\\lib\\site-packages\\tweepy\\binder.py\u001b[0m in \u001b[0;36mexecute\u001b[1;34m(self)\u001b[0m\n\u001b[0;32m    232\u001b[0m                     \u001b[1;32mraise\u001b[0m \u001b[0mRateLimitError\u001b[0m\u001b[1;33m(\u001b[0m\u001b[0merror_msg\u001b[0m\u001b[1;33m,\u001b[0m \u001b[0mresp\u001b[0m\u001b[1;33m)\u001b[0m\u001b[1;33m\u001b[0m\u001b[1;33m\u001b[0m\u001b[0m\n\u001b[0;32m    233\u001b[0m                 \u001b[1;32melse\u001b[0m\u001b[1;33m:\u001b[0m\u001b[1;33m\u001b[0m\u001b[1;33m\u001b[0m\u001b[0m\n\u001b[1;32m--> 234\u001b[1;33m                     \u001b[1;32mraise\u001b[0m \u001b[0mTweepError\u001b[0m\u001b[1;33m(\u001b[0m\u001b[0merror_msg\u001b[0m\u001b[1;33m,\u001b[0m \u001b[0mresp\u001b[0m\u001b[1;33m,\u001b[0m \u001b[0mapi_code\u001b[0m\u001b[1;33m=\u001b[0m\u001b[0mapi_error_code\u001b[0m\u001b[1;33m)\u001b[0m\u001b[1;33m\u001b[0m\u001b[1;33m\u001b[0m\u001b[0m\n\u001b[0m\u001b[0;32m    235\u001b[0m \u001b[1;33m\u001b[0m\u001b[0m\n\u001b[0;32m    236\u001b[0m             \u001b[1;31m# Parse the response payload\u001b[0m\u001b[1;33m\u001b[0m\u001b[1;33m\u001b[0m\u001b[1;33m\u001b[0m\u001b[0m\n",
      "\u001b[1;31mTweepError\u001b[0m: Twitter error response: status code = 429"
     ]
    }
   ],
   "source": [
    "# Call functions to create dataframes\n",
    "df1 = get_tweets(['Paramount'], '2021-08-16', 'es', number_of_tweets)\n",
    "df2 = get_tweets(['Disney Plus'], '2021-08-16', 'es', number_of_tweets)\n",
    "df3 = get_tweets(['Amazon Prime Video'], '2021-08-16', 'es', number_of_tweets)\n",
    "df4 = get_tweets(['HBO Max'], '2021-08-16', 'es', number_of_tweets)\n",
    "df5 = get_tweets(['Start'], '2021-08-16', 'es', number_of_tweets)\n",
    "df6 = get_tweets(['Apple TV'], '2021-08-16', 'es', number_of_tweets)\n",
    "df7 = get_tweets(['Netflix'], '2021-08-16', 'es', number_of_tweets)"
   ]
  },
  {
   "cell_type": "code",
   "execution_count": 44,
   "metadata": {
    "id": "VSfUxEZTDOkA"
   },
   "outputs": [],
   "source": [
    "# Concatenate dataframe\n",
    "frames = [df1, df2, df3, df4, df5, df6, df7]\n",
    "result = pd.concat(frames)"
   ]
  },
  {
   "cell_type": "code",
   "execution_count": 45,
   "metadata": {
    "id": "rc3qTjVjDTcq"
   },
   "outputs": [
    {
     "data": {
      "text/html": [
       "<div>\n",
       "<style scoped>\n",
       "    .dataframe tbody tr th:only-of-type {\n",
       "        vertical-align: middle;\n",
       "    }\n",
       "\n",
       "    .dataframe tbody tr th {\n",
       "        vertical-align: top;\n",
       "    }\n",
       "\n",
       "    .dataframe thead th {\n",
       "        text-align: right;\n",
       "    }\n",
       "</style>\n",
       "<table border=\"1\" class=\"dataframe\">\n",
       "  <thead>\n",
       "    <tr style=\"text-align: right;\">\n",
       "      <th></th>\n",
       "      <th>Date</th>\n",
       "      <th>Tweet</th>\n",
       "      <th>Id</th>\n",
       "      <th>User_name</th>\n",
       "      <th>retweet_count</th>\n",
       "      <th>like_count</th>\n",
       "      <th>followers_count</th>\n",
       "      <th>followees</th>\n",
       "      <th>location</th>\n",
       "    </tr>\n",
       "  </thead>\n",
       "  <tbody>\n",
       "    <tr>\n",
       "      <th>0</th>\n",
       "      <td>2021-08-21 17:14:28</td>\n",
       "      <td>Michael Bay seguirá siendo productor al igual ...</td>\n",
       "      <td>1429129788220977158</td>\n",
       "      <td>del_mutante</td>\n",
       "      <td>0</td>\n",
       "      <td>7</td>\n",
       "      <td>3877</td>\n",
       "      <td>685</td>\n",
       "      <td>Alcantarillas de New York</td>\n",
       "    </tr>\n",
       "    <tr>\n",
       "      <th>1</th>\n",
       "      <td>2021-08-21 17:11:46</td>\n",
       "      <td>Una serie que les recomiendo: Yellowstone, con...</td>\n",
       "      <td>1429129111088287745</td>\n",
       "      <td>poterios</td>\n",
       "      <td>0</td>\n",
       "      <td>4</td>\n",
       "      <td>14827</td>\n",
       "      <td>1350</td>\n",
       "      <td></td>\n",
       "    </tr>\n",
       "    <tr>\n",
       "      <th>2</th>\n",
       "      <td>2021-08-21 17:10:02</td>\n",
       "      <td>#Musica\\nCon un concierto inolvidable, en medi...</td>\n",
       "      <td>1429128675493130245</td>\n",
       "      <td>unpluggednewsmx</td>\n",
       "      <td>0</td>\n",
       "      <td>0</td>\n",
       "      <td>156</td>\n",
       "      <td>153</td>\n",
       "      <td></td>\n",
       "    </tr>\n",
       "    <tr>\n",
       "      <th>3</th>\n",
       "      <td>2021-08-21 17:00:16</td>\n",
       "      <td>Thriller español Parot llega en exclusiva a Pa...</td>\n",
       "      <td>1429126217039556608</td>\n",
       "      <td>TheDailyTV</td>\n",
       "      <td>0</td>\n",
       "      <td>0</td>\n",
       "      <td>3403</td>\n",
       "      <td>3179</td>\n",
       "      <td>Miami, EEUU</td>\n",
       "    </tr>\n",
       "    <tr>\n",
       "      <th>4</th>\n",
       "      <td>2021-08-21 16:55:59</td>\n",
       "      <td>¿Quién tiene Paramount+? Es que quiero ver la ...</td>\n",
       "      <td>1429125140269436930</td>\n",
       "      <td>itsangelcandice</td>\n",
       "      <td>0</td>\n",
       "      <td>0</td>\n",
       "      <td>8148</td>\n",
       "      <td>3245</td>\n",
       "      <td>𝓗𝓾𝓯𝓯𝓵𝓮𝓹𝓾𝓯𝓯. Éride, Ponque, Mai, Sere, Juan.</td>\n",
       "    </tr>\n",
       "    <tr>\n",
       "      <th>...</th>\n",
       "      <td>...</td>\n",
       "      <td>...</td>\n",
       "      <td>...</td>\n",
       "      <td>...</td>\n",
       "      <td>...</td>\n",
       "      <td>...</td>\n",
       "      <td>...</td>\n",
       "      <td>...</td>\n",
       "      <td>...</td>\n",
       "    </tr>\n",
       "    <tr>\n",
       "      <th>95</th>\n",
       "      <td>2021-08-21 17:12:23</td>\n",
       "      <td>RT @unchasqui: Qué fuerte la denuncia contra G...</td>\n",
       "      <td>1429129266059481088</td>\n",
       "      <td>JoeyL33082565</td>\n",
       "      <td>29</td>\n",
       "      <td>0</td>\n",
       "      <td>0</td>\n",
       "      <td>8</td>\n",
       "      <td></td>\n",
       "    </tr>\n",
       "    <tr>\n",
       "      <th>96</th>\n",
       "      <td>2021-08-21 17:12:22</td>\n",
       "      <td>RT @PreviouslySerix: #NeverHaveIEver \\n#YoNunc...</td>\n",
       "      <td>1429129259906478085</td>\n",
       "      <td>Stephany1228826</td>\n",
       "      <td>25</td>\n",
       "      <td>0</td>\n",
       "      <td>80</td>\n",
       "      <td>75</td>\n",
       "      <td></td>\n",
       "    </tr>\n",
       "    <tr>\n",
       "      <th>97</th>\n",
       "      <td>2021-08-21 17:12:09</td>\n",
       "      <td>RT @diegoarroyogil: Me gustó mucho el document...</td>\n",
       "      <td>1429129205640478727</td>\n",
       "      <td>AnaMaDiLeo</td>\n",
       "      <td>5</td>\n",
       "      <td>0</td>\n",
       "      <td>5369</td>\n",
       "      <td>3056</td>\n",
       "      <td>Caracas, Venezuela</td>\n",
       "    </tr>\n",
       "    <tr>\n",
       "      <th>98</th>\n",
       "      <td>2021-08-21 17:11:58</td>\n",
       "      <td>Hoy día de: beber, fumar, chuches y Netflix 🙂</td>\n",
       "      <td>1429129159557664772</td>\n",
       "      <td>MaleniRey15</td>\n",
       "      <td>0</td>\n",
       "      <td>0</td>\n",
       "      <td>19</td>\n",
       "      <td>60</td>\n",
       "      <td></td>\n",
       "    </tr>\n",
       "    <tr>\n",
       "      <th>99</th>\n",
       "      <td>2021-08-21 17:11:54</td>\n",
       "      <td>@UnaAlienada los progres de netflix producen u...</td>\n",
       "      <td>1429129142403051526</td>\n",
       "      <td>Alangian6</td>\n",
       "      <td>0</td>\n",
       "      <td>0</td>\n",
       "      <td>5</td>\n",
       "      <td>145</td>\n",
       "      <td>Misiones, Argentina</td>\n",
       "    </tr>\n",
       "  </tbody>\n",
       "</table>\n",
       "<p>700 rows × 9 columns</p>\n",
       "</div>"
      ],
      "text/plain": [
       "                  Date                                              Tweet  \\\n",
       "0  2021-08-21 17:14:28  Michael Bay seguirá siendo productor al igual ...   \n",
       "1  2021-08-21 17:11:46  Una serie que les recomiendo: Yellowstone, con...   \n",
       "2  2021-08-21 17:10:02  #Musica\\nCon un concierto inolvidable, en medi...   \n",
       "3  2021-08-21 17:00:16  Thriller español Parot llega en exclusiva a Pa...   \n",
       "4  2021-08-21 16:55:59  ¿Quién tiene Paramount+? Es que quiero ver la ...   \n",
       "..                 ...                                                ...   \n",
       "95 2021-08-21 17:12:23  RT @unchasqui: Qué fuerte la denuncia contra G...   \n",
       "96 2021-08-21 17:12:22  RT @PreviouslySerix: #NeverHaveIEver \\n#YoNunc...   \n",
       "97 2021-08-21 17:12:09  RT @diegoarroyogil: Me gustó mucho el document...   \n",
       "98 2021-08-21 17:11:58      Hoy día de: beber, fumar, chuches y Netflix 🙂   \n",
       "99 2021-08-21 17:11:54  @UnaAlienada los progres de netflix producen u...   \n",
       "\n",
       "                     Id        User_name  retweet_count  like_count  \\\n",
       "0   1429129788220977158      del_mutante              0           7   \n",
       "1   1429129111088287745         poterios              0           4   \n",
       "2   1429128675493130245  unpluggednewsmx              0           0   \n",
       "3   1429126217039556608       TheDailyTV              0           0   \n",
       "4   1429125140269436930  itsangelcandice              0           0   \n",
       "..                  ...              ...            ...         ...   \n",
       "95  1429129266059481088    JoeyL33082565             29           0   \n",
       "96  1429129259906478085  Stephany1228826             25           0   \n",
       "97  1429129205640478727       AnaMaDiLeo              5           0   \n",
       "98  1429129159557664772      MaleniRey15              0           0   \n",
       "99  1429129142403051526        Alangian6              0           0   \n",
       "\n",
       "    followers_count  followees                                     location  \n",
       "0              3877        685                    Alcantarillas de New York  \n",
       "1             14827       1350                                               \n",
       "2               156        153                                               \n",
       "3              3403       3179                                  Miami, EEUU  \n",
       "4              8148       3245  𝓗𝓾𝓯𝓯𝓵𝓮𝓹𝓾𝓯𝓯. Éride, Ponque, Mai, Sere, Juan.  \n",
       "..              ...        ...                                          ...  \n",
       "95                0          8                                               \n",
       "96               80         75                                               \n",
       "97             5369       3056                          Caracas, Venezuela   \n",
       "98               19         60                                               \n",
       "99                5        145                          Misiones, Argentina  \n",
       "\n",
       "[700 rows x 9 columns]"
      ]
     },
     "execution_count": 45,
     "metadata": {},
     "output_type": "execute_result"
    }
   ],
   "source": [
    "# Dataframe\n",
    "result"
   ]
  },
  {
   "cell_type": "code",
   "execution_count": 9,
   "metadata": {
    "id": "D7S3OhLLGgPd"
   },
   "outputs": [],
   "source": [
    "# Export to cvs sep without commas\n",
    "result.to_csv('tweets.csv', sep='|', index=False )"
   ]
  },
  {
   "cell_type": "markdown",
   "metadata": {},
   "source": [
    "**Previous steps**"
   ]
  },
  {
   "cell_type": "code",
   "execution_count": null,
   "metadata": {},
   "outputs": [],
   "source": [
    "#tweet_list = []\n",
    "    #for tweet in tweets:\n",
    "      #tweet_list.append([tweet.created_at, tweet.text, tweet.id, tweet.retweet_count, \n",
    "                         #tweet.favorite_count, tweet.coordinates, tweet.user.followers_count,\n",
    "                         #tweet.user.friends_count, tweet.user.location])\n",
    "\n",
    "# Create dataframe\n",
    "    #df = pd.DataFrame(tweet_list, columns=['Date', 'Tweet', 'Id', 'retweet_count', 'like_count',\n",
    "                                           #'coordinates', 'followers_count','followees', 'location'])"
   ]
  },
  {
   "cell_type": "code",
   "execution_count": null,
   "metadata": {
    "id": "PwkV4qLZ7c0U"
   },
   "outputs": [],
   "source": [
    "#search_words = ['Netflix OR Paramount OR Disney Plus OR HBO Max OR Start OR Apple TV OR Amazon Prime Video']\n",
    "#search_words = ['Netflix']\n",
    "#date_since = \"2021-08-16\""
   ]
  },
  {
   "cell_type": "code",
   "execution_count": null,
   "metadata": {
    "id": "h-3BP46o7nBB"
   },
   "outputs": [],
   "source": [
    "#tweets = tw.Cursor(api.search,\n",
    "#              q=search_words,\n",
    "#              lang=\"es\",\n",
    "#              since=date_since,\n",
    "#              wait_on_rate_limit=True\n",
    "#              ).items(100)"
   ]
  },
  {
   "cell_type": "code",
   "execution_count": null,
   "metadata": {
    "id": "JCbN2ezRBSvB"
   },
   "outputs": [],
   "source": [
    "#tweet_list = []\n",
    "#with open('output2.csv', 'w') as f:\n",
    "#  writer = csv.writer(f, delimiter='|')\n",
    "#  for tweet in tweets:\n",
    "#    writer.writerow([tweet.created_at, tweet.text])\n",
    "#    tweet_list.append([tweet.created_at, tweet.text])"
   ]
  },
  {
   "cell_type": "code",
   "execution_count": null,
   "metadata": {},
   "outputs": [],
   "source": [
    "#tweet_list = []\n",
    "#for tweet in tweets:\n",
    "#  tweet_list.append([tweet.created_at, tweet.text])"
   ]
  },
  {
   "cell_type": "code",
   "execution_count": null,
   "metadata": {
    "id": "DScGBsSt-Xs9"
   },
   "outputs": [],
   "source": [
    "#df = pd.DataFrame(tweet_list, columns=['Date', 'Tweet'])"
   ]
  },
  {
   "cell_type": "code",
   "execution_count": null,
   "metadata": {
    "id": "PF8FBazO9e3K"
   },
   "outputs": [],
   "source": [
    "#df.head"
   ]
  },
  {
   "cell_type": "code",
   "execution_count": null,
   "metadata": {
    "id": "H9M0eYfHBe5C"
   },
   "outputs": [],
   "source": [
    "#search_words = ['Paramount']\n",
    "#date_since = \"2021-08-16\""
   ]
  },
  {
   "cell_type": "code",
   "execution_count": null,
   "metadata": {
    "id": "VX_0K4XbBkID"
   },
   "outputs": [],
   "source": [
    "#tweets = tw.Cursor(api.search,\n",
    "#              q=search_words,\n",
    "#              lang=\"es\",\n",
    "#              since=date_since\n",
    "#              ).items(1000)"
   ]
  },
  {
   "cell_type": "code",
   "execution_count": null,
   "metadata": {
    "id": "MDWD--N9BmMA"
   },
   "outputs": [],
   "source": [
    "#tweet_list = []\n",
    "#for tweet in tweets:\n",
    "#  tweet_list.append([tweet.created_at, tweet.text])"
   ]
  },
  {
   "cell_type": "code",
   "execution_count": null,
   "metadata": {
    "id": "uWimuBXxBned"
   },
   "outputs": [],
   "source": [
    "#df2 = pd.DataFrame(tweet_list, columns=['Date', 'Tweet'])"
   ]
  },
  {
   "cell_type": "code",
   "execution_count": null,
   "metadata": {
    "id": "xDwiCdo9BoZc"
   },
   "outputs": [],
   "source": [
    "#frames = [df, df2]\n",
    "#result = pd.concat(frames)"
   ]
  },
  {
   "cell_type": "code",
   "execution_count": null,
   "metadata": {
    "colab": {
     "base_uri": "https://localhost:8080/",
     "height": 419
    },
    "id": "5yRIUVhUBxab",
    "outputId": "c6f42117-d0a6-4b23-b8c9-309d5aa3d5d3"
   },
   "outputs": [
    {
     "data": {
      "text/html": [
       "<div>\n",
       "<style scoped>\n",
       "    .dataframe tbody tr th:only-of-type {\n",
       "        vertical-align: middle;\n",
       "    }\n",
       "\n",
       "    .dataframe tbody tr th {\n",
       "        vertical-align: top;\n",
       "    }\n",
       "\n",
       "    .dataframe thead th {\n",
       "        text-align: right;\n",
       "    }\n",
       "</style>\n",
       "<table border=\"1\" class=\"dataframe\">\n",
       "  <thead>\n",
       "    <tr style=\"text-align: right;\">\n",
       "      <th></th>\n",
       "      <th>Date</th>\n",
       "      <th>Tweet</th>\n",
       "    </tr>\n",
       "  </thead>\n",
       "  <tbody>\n",
       "    <tr>\n",
       "      <th>0</th>\n",
       "      <td>2021-08-21 04:33:06</td>\n",
       "      <td>☀️ Zenimation de Disney+ convierte escenas clá...</td>\n",
       "    </tr>\n",
       "    <tr>\n",
       "      <th>1</th>\n",
       "      <td>2021-08-21 04:25:01</td>\n",
       "      <td>Soy yo o la plataforma de disney plus está bie...</td>\n",
       "    </tr>\n",
       "    <tr>\n",
       "      <th>2</th>\n",
       "      <td>2021-08-21 04:17:14</td>\n",
       "      <td>Amix, préstenme su cuenta de Disney plus y la ...</td>\n",
       "    </tr>\n",
       "    <tr>\n",
       "      <th>3</th>\n",
       "      <td>2021-08-21 04:16:30</td>\n",
       "      <td>Una no puede ver una película online porque te...</td>\n",
       "    </tr>\n",
       "    <tr>\n",
       "      <th>4</th>\n",
       "      <td>2021-08-21 04:13:56</td>\n",
       "      <td>@jungkookanojo omgg yo ahora veo star vs las f...</td>\n",
       "    </tr>\n",
       "    <tr>\n",
       "      <th>...</th>\n",
       "      <td>...</td>\n",
       "      <td>...</td>\n",
       "    </tr>\n",
       "    <tr>\n",
       "      <th>995</th>\n",
       "      <td>2021-08-18 12:34:28</td>\n",
       "      <td>Que las marcas que hayan elegido para represen...</td>\n",
       "    </tr>\n",
       "    <tr>\n",
       "      <th>996</th>\n",
       "      <td>2021-08-18 12:34:25</td>\n",
       "      <td>@JorgeRieraLopez No parece. Vendrá todo aquí, ...</td>\n",
       "    </tr>\n",
       "    <tr>\n",
       "      <th>997</th>\n",
       "      <td>2021-08-18 12:33:51</td>\n",
       "      <td>RT @enekoruizj: En 2022, tenemos nueva platafo...</td>\n",
       "    </tr>\n",
       "    <tr>\n",
       "      <th>998</th>\n",
       "      <td>2021-08-18 12:33:37</td>\n",
       "      <td>El servicio de streaming SkyShowtime llegará a...</td>\n",
       "    </tr>\n",
       "    <tr>\n",
       "      <th>999</th>\n",
       "      <td>2021-08-18 12:33:36</td>\n",
       "      <td>RT @MissMacGuffin: El plot twist del verano en...</td>\n",
       "    </tr>\n",
       "  </tbody>\n",
       "</table>\n",
       "<p>2000 rows × 2 columns</p>\n",
       "</div>"
      ],
      "text/plain": [
       "                   Date                                              Tweet\n",
       "0   2021-08-21 04:33:06  ☀️ Zenimation de Disney+ convierte escenas clá...\n",
       "1   2021-08-21 04:25:01  Soy yo o la plataforma de disney plus está bie...\n",
       "2   2021-08-21 04:17:14  Amix, préstenme su cuenta de Disney plus y la ...\n",
       "3   2021-08-21 04:16:30  Una no puede ver una película online porque te...\n",
       "4   2021-08-21 04:13:56  @jungkookanojo omgg yo ahora veo star vs las f...\n",
       "..                  ...                                                ...\n",
       "995 2021-08-18 12:34:28  Que las marcas que hayan elegido para represen...\n",
       "996 2021-08-18 12:34:25  @JorgeRieraLopez No parece. Vendrá todo aquí, ...\n",
       "997 2021-08-18 12:33:51  RT @enekoruizj: En 2022, tenemos nueva platafo...\n",
       "998 2021-08-18 12:33:37  El servicio de streaming SkyShowtime llegará a...\n",
       "999 2021-08-18 12:33:36  RT @MissMacGuffin: El plot twist del verano en...\n",
       "\n",
       "[2000 rows x 2 columns]"
      ]
     },
     "execution_count": 60,
     "metadata": {},
     "output_type": "execute_result"
    }
   ],
   "source": [
    "#result"
   ]
  }
 ],
 "metadata": {
  "colab": {
   "collapsed_sections": [],
   "name": "Copia de BBProyecto.ipynb",
   "provenance": []
  },
  "kernelspec": {
   "display_name": "Python 3",
   "language": "python",
   "name": "python3"
  },
  "language_info": {
   "codemirror_mode": {
    "name": "ipython",
    "version": 3
   },
   "file_extension": ".py",
   "mimetype": "text/x-python",
   "name": "python",
   "nbconvert_exporter": "python",
   "pygments_lexer": "ipython3",
   "version": "3.8.5"
  }
 },
 "nbformat": 4,
 "nbformat_minor": 1
}
