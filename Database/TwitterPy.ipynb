{
 "cells": [
  {
   "cell_type": "code",
   "execution_count": 1,
   "metadata": {
    "id": "aIPh4EolI06Q"
   },
   "outputs": [
    {
     "name": "stdout",
     "output_type": "stream",
     "text": [
      "Requirement already satisfied: tweepy in c:\\users\\ssses\\anaconda3\\lib\\site-packages (3.10.0)\n",
      "Requirement already satisfied: requests-oauthlib>=0.7.0 in c:\\users\\ssses\\anaconda3\\lib\\site-packages (from tweepy) (1.3.0)\n",
      "Requirement already satisfied: six>=1.10.0 in c:\\users\\ssses\\anaconda3\\lib\\site-packages (from tweepy) (1.15.0)\n",
      "Requirement already satisfied: requests[socks]>=2.11.1 in c:\\users\\ssses\\anaconda3\\lib\\site-packages (from tweepy) (2.24.0)\n",
      "Requirement already satisfied: oauthlib>=3.0.0 in c:\\users\\ssses\\anaconda3\\lib\\site-packages (from requests-oauthlib>=0.7.0->tweepy) (3.1.1)\n",
      "Requirement already satisfied: chardet<4,>=3.0.2 in c:\\users\\ssses\\anaconda3\\lib\\site-packages (from requests[socks]>=2.11.1->tweepy) (3.0.4)\n",
      "Requirement already satisfied: urllib3!=1.25.0,!=1.25.1,<1.26,>=1.21.1 in c:\\users\\ssses\\anaconda3\\lib\\site-packages (from requests[socks]>=2.11.1->tweepy) (1.25.11)\n",
      "Requirement already satisfied: idna<3,>=2.5 in c:\\users\\ssses\\anaconda3\\lib\\site-packages (from requests[socks]>=2.11.1->tweepy) (2.10)\n",
      "Requirement already satisfied: certifi>=2017.4.17 in c:\\users\\ssses\\anaconda3\\lib\\site-packages (from requests[socks]>=2.11.1->tweepy) (2020.6.20)\n",
      "Requirement already satisfied: PySocks!=1.5.7,>=1.5.6; extra == \"socks\" in c:\\users\\ssses\\anaconda3\\lib\\site-packages (from requests[socks]>=2.11.1->tweepy) (1.7.1)\n",
      "Note: you may need to restart the kernel to use updated packages.\n"
     ]
    }
   ],
   "source": [
    "pip install tweepy"
   ]
  },
  {
   "cell_type": "code",
   "execution_count": 2,
   "metadata": {
    "id": "kMA2YnVA7VHF"
   },
   "outputs": [],
   "source": [
    "# Dependencies and Setup\n",
    "import tweepy as tw\n",
    "from datetime import datetime,timedelta\n",
    "import csv\n",
    "import pandas as pd\n",
    "from api_keys import consumer_key\n",
    "from api_keys import consumer_secret\n",
    "from api_keys import access_token\n",
    "from api_keys import access_secret"
   ]
  },
  {
   "cell_type": "code",
   "execution_count": 6,
   "metadata": {
    "id": "itJe-h1B7av7"
   },
   "outputs": [],
   "source": [
    "auth = tw.OAuthHandler(consumer_key, consumer_secret)\n",
    "auth.set_access_token(access_token, access_secret)\n",
    "\n",
    "api = tw.API(auth)"
   ]
  },
  {
   "cell_type": "code",
   "execution_count": 7,
   "metadata": {},
   "outputs": [],
   "source": [
    "number_of_tweets = 100"
   ]
  },
  {
   "cell_type": "markdown",
   "metadata": {
    "id": "ILAouvjGLM6m"
   },
   "source": [
    "**Getting tweets**"
   ]
  },
  {
   "cell_type": "code",
   "execution_count": 8,
   "metadata": {
    "id": "tHN738tICWWp"
   },
   "outputs": [],
   "source": [
    "# Define function to get the tweets\n",
    "\n",
    "def get_tweets(search_words, date_since, language, number_of_items):\n",
    "    \n",
    "    tweets = tw.Cursor(api.search,\n",
    "              q=search_words,\n",
    "              lang=language,\n",
    "              since=date_since\n",
    "              ).items(number_of_items)\n",
    "    \n",
    "    tweet_list = []\n",
    "    for tweet in tweets:\n",
    "      tweet_list.append([search_words[0],tweet.id, tweet.text, tweet.user.id, tweet.user.screen_name,tweet.created_at,\n",
    "                         tweet.favorite_count, tweet.retweet_count,tweet.user.verified,tweet.user.location,\n",
    "                         tweet.user.friends_count, tweet.user.followers_count])\n",
    "# Create dataframe\n",
    "    df = pd.DataFrame(tweet_list, columns=['key_word','id', 'tweet','user_id','user_name','date',\n",
    "                                           'like','retweet','verified','location',\n",
    "                                           'friends','followers'])\n",
    "    return df"
   ]
  },
  {
   "cell_type": "code",
   "execution_count": 9,
   "metadata": {
    "colab": {
     "base_uri": "https://localhost:8080/",
     "height": 340
    },
    "id": "qVDwZRGDC54F",
    "outputId": "a367fdd2-3f03-47be-a63f-aff43aa99342"
   },
   "outputs": [],
   "source": [
    "# Call functions to create dataframes\n",
    "df1 = get_tweets(['Paramount'], '2021-08-16', 'es', number_of_tweets)\n",
    "df2 = get_tweets(['Disney Plus'], '2021-08-16', 'es', number_of_tweets)\n",
    "df3 = get_tweets(['Amazon Prime Video'], '2021-08-16', 'es', number_of_tweets)\n",
    "df4 = get_tweets(['HBO Max'], '2021-08-16', 'es', number_of_tweets)\n",
    "df5 = get_tweets(['Start'], '2021-08-16', 'es', number_of_tweets)\n",
    "df6 = get_tweets(['Apple TV'], '2021-08-16', 'es', number_of_tweets)\n",
    "df7 = get_tweets(['Netflix'], '2021-08-16', 'es', number_of_tweets)"
   ]
  },
  {
   "cell_type": "code",
   "execution_count": 10,
   "metadata": {
    "id": "VSfUxEZTDOkA"
   },
   "outputs": [],
   "source": [
    "# Concatenate dataframe\n",
    "frames = [df1, df2, df3, df4, df5, df6, df7]\n",
    "result = pd.concat(frames)"
   ]
  },
  {
   "cell_type": "code",
   "execution_count": 11,
   "metadata": {
    "id": "rc3qTjVjDTcq"
   },
   "outputs": [
    {
     "data": {
      "text/html": [
       "<div>\n",
       "<style scoped>\n",
       "    .dataframe tbody tr th:only-of-type {\n",
       "        vertical-align: middle;\n",
       "    }\n",
       "\n",
       "    .dataframe tbody tr th {\n",
       "        vertical-align: top;\n",
       "    }\n",
       "\n",
       "    .dataframe thead th {\n",
       "        text-align: right;\n",
       "    }\n",
       "</style>\n",
       "<table border=\"1\" class=\"dataframe\">\n",
       "  <thead>\n",
       "    <tr style=\"text-align: right;\">\n",
       "      <th></th>\n",
       "      <th>key_word</th>\n",
       "      <th>id</th>\n",
       "      <th>tweet</th>\n",
       "      <th>user_id</th>\n",
       "      <th>user_name</th>\n",
       "      <th>date</th>\n",
       "      <th>like</th>\n",
       "      <th>retweet</th>\n",
       "      <th>verified</th>\n",
       "      <th>location</th>\n",
       "      <th>friends</th>\n",
       "      <th>followers</th>\n",
       "    </tr>\n",
       "  </thead>\n",
       "  <tbody>\n",
       "    <tr>\n",
       "      <th>0</th>\n",
       "      <td>Paramount</td>\n",
       "      <td>1429145286010626062</td>\n",
       "      <td>RT @TVLaint: Paramount+ presenta en exclusiva ...</td>\n",
       "      <td>1246940456694550528</td>\n",
       "      <td>ProtectToThai</td>\n",
       "      <td>2021-08-21 18:16:03</td>\n",
       "      <td>0</td>\n",
       "      <td>1</td>\n",
       "      <td>False</td>\n",
       "      <td>Asuncion, Paraguay</td>\n",
       "      <td>567</td>\n",
       "      <td>333</td>\n",
       "    </tr>\n",
       "    <tr>\n",
       "      <th>1</th>\n",
       "      <td>Paramount</td>\n",
       "      <td>1429145029382189059</td>\n",
       "      <td>🎞 Misión: Imposible\\n🎬 Brian de Palma\\n📺 Param...</td>\n",
       "      <td>838606795786620930</td>\n",
       "      <td>BotDePeliculas</td>\n",
       "      <td>2021-08-21 18:15:01</td>\n",
       "      <td>3</td>\n",
       "      <td>0</td>\n",
       "      <td>False</td>\n",
       "      <td>Argentina</td>\n",
       "      <td>2</td>\n",
       "      <td>22041</td>\n",
       "    </tr>\n",
       "    <tr>\n",
       "      <th>2</th>\n",
       "      <td>Paramount</td>\n",
       "      <td>1429142348668231684</td>\n",
       "      <td>@TVLaint Otro motivo más para NO suscribirme a...</td>\n",
       "      <td>354617890</td>\n",
       "      <td>soykeanuel</td>\n",
       "      <td>2021-08-21 18:04:22</td>\n",
       "      <td>0</td>\n",
       "      <td>0</td>\n",
       "      <td>False</td>\n",
       "      <td>R. Dominicana</td>\n",
       "      <td>292</td>\n",
       "      <td>34</td>\n",
       "    </tr>\n",
       "    <tr>\n",
       "      <th>3</th>\n",
       "      <td>Paramount</td>\n",
       "      <td>1429141703135477761</td>\n",
       "      <td>Paramount+ presenta en exclusiva ''Hecho a la ...</td>\n",
       "      <td>1300553213507067904</td>\n",
       "      <td>TVLaint</td>\n",
       "      <td>2021-08-21 18:01:48</td>\n",
       "      <td>1</td>\n",
       "      <td>1</td>\n",
       "      <td>False</td>\n",
       "      <td>Latinoamérica</td>\n",
       "      <td>295</td>\n",
       "      <td>1446</td>\n",
       "    </tr>\n",
       "    <tr>\n",
       "      <th>4</th>\n",
       "      <td>Paramount</td>\n",
       "      <td>1429138695639142402</td>\n",
       "      <td>Paramount Channel\\n  20:07  XXX 2: Estado de e...</td>\n",
       "      <td>1337925910415204352</td>\n",
       "      <td>QueVanAEchar</td>\n",
       "      <td>2021-08-21 17:49:51</td>\n",
       "      <td>0</td>\n",
       "      <td>0</td>\n",
       "      <td>False</td>\n",
       "      <td></td>\n",
       "      <td>0</td>\n",
       "      <td>75</td>\n",
       "    </tr>\n",
       "    <tr>\n",
       "      <th>...</th>\n",
       "      <td>...</td>\n",
       "      <td>...</td>\n",
       "      <td>...</td>\n",
       "      <td>...</td>\n",
       "      <td>...</td>\n",
       "      <td>...</td>\n",
       "      <td>...</td>\n",
       "      <td>...</td>\n",
       "      <td>...</td>\n",
       "      <td>...</td>\n",
       "      <td>...</td>\n",
       "      <td>...</td>\n",
       "    </tr>\n",
       "    <tr>\n",
       "      <th>95</th>\n",
       "      <td>Netflix</td>\n",
       "      <td>1429144393244684297</td>\n",
       "      <td>RT @levmauc: A un mes de que Netflix estrene M...</td>\n",
       "      <td>110613533</td>\n",
       "      <td>P4tuzo</td>\n",
       "      <td>2021-08-21 18:12:30</td>\n",
       "      <td>0</td>\n",
       "      <td>426</td>\n",
       "      <td>False</td>\n",
       "      <td>La Serena, Chile</td>\n",
       "      <td>552</td>\n",
       "      <td>1157</td>\n",
       "    </tr>\n",
       "    <tr>\n",
       "      <th>96</th>\n",
       "      <td>Netflix</td>\n",
       "      <td>1429144375435608068</td>\n",
       "      <td>RT @__mlndz__: Pusieron el tercer season de Ma...</td>\n",
       "      <td>4354018217</td>\n",
       "      <td>zulied_angelica</td>\n",
       "      <td>2021-08-21 18:12:25</td>\n",
       "      <td>0</td>\n",
       "      <td>1</td>\n",
       "      <td>False</td>\n",
       "      <td>del west</td>\n",
       "      <td>801</td>\n",
       "      <td>1162</td>\n",
       "    </tr>\n",
       "    <tr>\n",
       "      <th>97</th>\n",
       "      <td>Netflix</td>\n",
       "      <td>1429144369450344457</td>\n",
       "      <td>RT @levmauc: A un mes de que Netflix estrene M...</td>\n",
       "      <td>1125216371913183232</td>\n",
       "      <td>DaniMurillo_12</td>\n",
       "      <td>2021-08-21 18:12:24</td>\n",
       "      <td>0</td>\n",
       "      <td>426</td>\n",
       "      <td>False</td>\n",
       "      <td>Bogotá, D.C., Colombia</td>\n",
       "      <td>162</td>\n",
       "      <td>41</td>\n",
       "    </tr>\n",
       "    <tr>\n",
       "      <th>98</th>\n",
       "      <td>Netflix</td>\n",
       "      <td>1429144319538106380</td>\n",
       "      <td>@StefanaPac Sabéis cuando la ponen en netflix?...</td>\n",
       "      <td>934897610678243328</td>\n",
       "      <td>aaatttggg22</td>\n",
       "      <td>2021-08-21 18:12:12</td>\n",
       "      <td>0</td>\n",
       "      <td>0</td>\n",
       "      <td>False</td>\n",
       "      <td></td>\n",
       "      <td>63</td>\n",
       "      <td>32</td>\n",
       "    </tr>\n",
       "    <tr>\n",
       "      <th>99</th>\n",
       "      <td>Netflix</td>\n",
       "      <td>1429144266849275907</td>\n",
       "      <td>RT @MallorcaBlanca: Los que no tenéis ilusión ...</td>\n",
       "      <td>1305249588841009158</td>\n",
       "      <td>madrid_sala</td>\n",
       "      <td>2021-08-21 18:12:00</td>\n",
       "      <td>0</td>\n",
       "      <td>8</td>\n",
       "      <td>False</td>\n",
       "      <td>Bernabeu</td>\n",
       "      <td>83</td>\n",
       "      <td>57</td>\n",
       "    </tr>\n",
       "  </tbody>\n",
       "</table>\n",
       "<p>700 rows × 12 columns</p>\n",
       "</div>"
      ],
      "text/plain": [
       "     key_word                   id  \\\n",
       "0   Paramount  1429145286010626062   \n",
       "1   Paramount  1429145029382189059   \n",
       "2   Paramount  1429142348668231684   \n",
       "3   Paramount  1429141703135477761   \n",
       "4   Paramount  1429138695639142402   \n",
       "..        ...                  ...   \n",
       "95    Netflix  1429144393244684297   \n",
       "96    Netflix  1429144375435608068   \n",
       "97    Netflix  1429144369450344457   \n",
       "98    Netflix  1429144319538106380   \n",
       "99    Netflix  1429144266849275907   \n",
       "\n",
       "                                                tweet              user_id  \\\n",
       "0   RT @TVLaint: Paramount+ presenta en exclusiva ...  1246940456694550528   \n",
       "1   🎞 Misión: Imposible\\n🎬 Brian de Palma\\n📺 Param...   838606795786620930   \n",
       "2   @TVLaint Otro motivo más para NO suscribirme a...            354617890   \n",
       "3   Paramount+ presenta en exclusiva ''Hecho a la ...  1300553213507067904   \n",
       "4   Paramount Channel\\n  20:07  XXX 2: Estado de e...  1337925910415204352   \n",
       "..                                                ...                  ...   \n",
       "95  RT @levmauc: A un mes de que Netflix estrene M...            110613533   \n",
       "96  RT @__mlndz__: Pusieron el tercer season de Ma...           4354018217   \n",
       "97  RT @levmauc: A un mes de que Netflix estrene M...  1125216371913183232   \n",
       "98  @StefanaPac Sabéis cuando la ponen en netflix?...   934897610678243328   \n",
       "99  RT @MallorcaBlanca: Los que no tenéis ilusión ...  1305249588841009158   \n",
       "\n",
       "          user_name                date  like  retweet  verified  \\\n",
       "0     ProtectToThai 2021-08-21 18:16:03     0        1     False   \n",
       "1    BotDePeliculas 2021-08-21 18:15:01     3        0     False   \n",
       "2        soykeanuel 2021-08-21 18:04:22     0        0     False   \n",
       "3           TVLaint 2021-08-21 18:01:48     1        1     False   \n",
       "4      QueVanAEchar 2021-08-21 17:49:51     0        0     False   \n",
       "..              ...                 ...   ...      ...       ...   \n",
       "95           P4tuzo 2021-08-21 18:12:30     0      426     False   \n",
       "96  zulied_angelica 2021-08-21 18:12:25     0        1     False   \n",
       "97   DaniMurillo_12 2021-08-21 18:12:24     0      426     False   \n",
       "98      aaatttggg22 2021-08-21 18:12:12     0        0     False   \n",
       "99      madrid_sala 2021-08-21 18:12:00     0        8     False   \n",
       "\n",
       "                  location  friends  followers  \n",
       "0       Asuncion, Paraguay      567        333  \n",
       "1                Argentina        2      22041  \n",
       "2            R. Dominicana      292         34  \n",
       "3            Latinoamérica      295       1446  \n",
       "4                                 0         75  \n",
       "..                     ...      ...        ...  \n",
       "95        La Serena, Chile      552       1157  \n",
       "96                del west      801       1162  \n",
       "97  Bogotá, D.C., Colombia      162         41  \n",
       "98                               63         32  \n",
       "99                Bernabeu       83         57  \n",
       "\n",
       "[700 rows x 12 columns]"
      ]
     },
     "execution_count": 11,
     "metadata": {},
     "output_type": "execute_result"
    }
   ],
   "source": [
    "# Dataframe\n",
    "result"
   ]
  },
  {
   "cell_type": "code",
   "execution_count": 17,
   "metadata": {},
   "outputs": [
    {
     "data": {
      "text/plain": [
       "0     RT @TVLaint: Paramount+ presenta en exclusiva ...\n",
       "1     🎞 Misión: Imposible\\n🎬 Brian de Palma\\n📺 Param...\n",
       "2     @TVLaint Otro motivo más para NO suscribirme a...\n",
       "3     Paramount+ presenta en exclusiva ''Hecho a la ...\n",
       "4     Paramount Channel\\n  20:07  XXX 2: Estado de e...\n",
       "                            ...                        \n",
       "95    RT @levmauc: A un mes de que Netflix estrene M...\n",
       "96    RT @__mlndz__: Pusieron el tercer season de Ma...\n",
       "97    RT @levmauc: A un mes de que Netflix estrene M...\n",
       "98    @StefanaPac Sabéis cuando la ponen en netflix?...\n",
       "99    RT @MallorcaBlanca: Los que no tenéis ilusión ...\n",
       "Name: tweet, Length: 700, dtype: object"
      ]
     },
     "execution_count": 17,
     "metadata": {},
     "output_type": "execute_result"
    }
   ],
   "source": [
    "result['tweet'].to_csv('Muestra.csv')"
   ]
  },
  {
   "cell_type": "code",
   "execution_count": 12,
   "metadata": {
    "id": "D7S3OhLLGgPd"
   },
   "outputs": [],
   "source": [
    "# Export to cvs sep without commas\n",
    "result.to_csv('tweets.csv', sep='|', index=False )"
   ]
  },
  {
   "cell_type": "markdown",
   "metadata": {},
   "source": [
    "**Previous steps**"
   ]
  },
  {
   "cell_type": "code",
   "execution_count": null,
   "metadata": {},
   "outputs": [],
   "source": [
    "#tweet_list = []\n",
    "    #for tweet in tweets:\n",
    "      #tweet_list.append([tweet.created_at, tweet.text, tweet.id, tweet.retweet_count, \n",
    "                         #tweet.favorite_count, tweet.coordinates, tweet.user.followers_count,\n",
    "                         #tweet.user.friends_count, tweet.user.location]) # Create dataframe\n",
    "    #df = pd.DataFrame(tweet_list, columns=['Date', 'Tweet', 'Id', 'retweet_count', 'like_count',\n",
    "                                           #'coordinates', 'followers_count','followees', 'location'])"
   ]
  },
  {
   "cell_type": "code",
   "execution_count": null,
   "metadata": {},
   "outputs": [],
   "source": [
    "#tweet_list = []\n",
    "    #for tweet in tweets:\n",
    "      #tweet_list.append([tweet.created_at, tweet.text, tweet.id, tweet.user.screen_name,tweet.user.verified, tweet.retweet_count, \n",
    "                         #tweet.favorite_count, tweet.user.followers_count,\n",
    "                         #tweet.user.friends_count, tweet.user.location] # Create dataframe\n",
    "    #df = pd.DataFrame(tweet_list, columns=['date', 'tweet', 'id', 'user_name', 'verified', 'retweet_count', 'like_count',\n",
    "                                           #'followers_count','followees', 'location'])\n",
    "    #return df"
   ]
  },
  {
   "cell_type": "code",
   "execution_count": null,
   "metadata": {
    "id": "PwkV4qLZ7c0U"
   },
   "outputs": [],
   "source": [
    "#search_words = ['Netflix OR Paramount OR Disney Plus OR HBO Max OR Start OR Apple TV OR Amazon Prime Video']\n",
    "#search_words = ['Netflix']#date_since = \"2021-08-16\""
   ]
  },
  {
   "cell_type": "markdown",
   "metadata": {
    "id": "h-3BP46o7nBB"
   },
   "source": [
    "#tweets = tw.Cursor(api.search,#              q=search_words,#              lang=\"es\",#              since=date_since,#              wait_on_rate_limit=True#              ).items(100)"
   ]
  },
  {
   "cell_type": "code",
   "execution_count": null,
   "metadata": {
    "id": "JCbN2ezRBSvB"
   },
   "outputs": [],
   "source": [
    "#tweet_list = []\n",
    "#with open('output2.csv', 'w') as f:\n",
    "#  writer = csv.writer(f, delimiter='|')\n",
    "#  for tweet in tweets:\n",
    "#    writer.writerow([tweet.created_at, tweet.text])\n",
    "#    tweet_list.append([tweet.created_at, tweet.text])"
   ]
  },
  {
   "cell_type": "code",
   "execution_count": null,
   "metadata": {},
   "outputs": [],
   "source": [
    "#tweet_list = []\n",
    "#for tweet in tweets:\n",
    "#  tweet_list.append([tweet.created_at, tweet.text])"
   ]
  },
  {
   "cell_type": "code",
   "execution_count": null,
   "metadata": {
    "id": "DScGBsSt-Xs9"
   },
   "outputs": [],
   "source": [
    "#df = pd.DataFrame(tweet_list, columns=['Date', 'Tweet'])"
   ]
  },
  {
   "cell_type": "code",
   "execution_count": null,
   "metadata": {
    "id": "PF8FBazO9e3K"
   },
   "outputs": [],
   "source": [
    "#df.head"
   ]
  },
  {
   "cell_type": "code",
   "execution_count": null,
   "metadata": {
    "id": "H9M0eYfHBe5C"
   },
   "outputs": [],
   "source": [
    "#search_words = ['Paramount']\n",
    "#date_since = \"2021-08-16\""
   ]
  },
  {
   "cell_type": "code",
   "execution_count": null,
   "metadata": {
    "id": "VX_0K4XbBkID"
   },
   "outputs": [],
   "source": [
    "#tweets = tw.Cursor(api.search,\n",
    "#              q=search_words,\n",
    "#              lang=\"es\",\n",
    "#              since=date_since\n",
    "#              ).items(1000)"
   ]
  },
  {
   "cell_type": "code",
   "execution_count": null,
   "metadata": {
    "id": "MDWD--N9BmMA"
   },
   "outputs": [],
   "source": [
    "#tweet_list = []\n",
    "#for tweet in tweets:\n",
    "#  tweet_list.append([tweet.created_at, tweet.text])"
   ]
  },
  {
   "cell_type": "code",
   "execution_count": null,
   "metadata": {
    "id": "uWimuBXxBned"
   },
   "outputs": [],
   "source": [
    "#df2 = pd.DataFrame(tweet_list, columns=['Date', 'Tweet'])"
   ]
  },
  {
   "cell_type": "code",
   "execution_count": null,
   "metadata": {
    "id": "xDwiCdo9BoZc"
   },
   "outputs": [],
   "source": [
    "#frames = [df, df2]\n",
    "#result = pd.concat(frames)"
   ]
  },
  {
   "cell_type": "code",
   "execution_count": null,
   "metadata": {
    "colab": {
     "base_uri": "https://localhost:8080/",
     "height": 419
    },
    "id": "5yRIUVhUBxab",
    "outputId": "c6f42117-d0a6-4b23-b8c9-309d5aa3d5d3"
   },
   "outputs": [
    {
     "data": {
      "text/html": [
       "<div>\n",
       "<style scoped>\n",
       "    .dataframe tbody tr th:only-of-type {\n",
       "        vertical-align: middle;\n",
       "    }\n",
       "\n",
       "    .dataframe tbody tr th {\n",
       "        vertical-align: top;\n",
       "    }\n",
       "\n",
       "    .dataframe thead th {\n",
       "        text-align: right;\n",
       "    }\n",
       "</style>\n",
       "<table border=\"1\" class=\"dataframe\">\n",
       "  <thead>\n",
       "    <tr style=\"text-align: right;\">\n",
       "      <th></th>\n",
       "      <th>Date</th>\n",
       "      <th>Tweet</th>\n",
       "    </tr>\n",
       "  </thead>\n",
       "  <tbody>\n",
       "    <tr>\n",
       "      <th>0</th>\n",
       "      <td>2021-08-21 04:33:06</td>\n",
       "      <td>☀️ Zenimation de Disney+ convierte escenas clá...</td>\n",
       "    </tr>\n",
       "    <tr>\n",
       "      <th>1</th>\n",
       "      <td>2021-08-21 04:25:01</td>\n",
       "      <td>Soy yo o la plataforma de disney plus está bie...</td>\n",
       "    </tr>\n",
       "    <tr>\n",
       "      <th>2</th>\n",
       "      <td>2021-08-21 04:17:14</td>\n",
       "      <td>Amix, préstenme su cuenta de Disney plus y la ...</td>\n",
       "    </tr>\n",
       "    <tr>\n",
       "      <th>3</th>\n",
       "      <td>2021-08-21 04:16:30</td>\n",
       "      <td>Una no puede ver una película online porque te...</td>\n",
       "    </tr>\n",
       "    <tr>\n",
       "      <th>4</th>\n",
       "      <td>2021-08-21 04:13:56</td>\n",
       "      <td>@jungkookanojo omgg yo ahora veo star vs las f...</td>\n",
       "    </tr>\n",
       "    <tr>\n",
       "      <th>...</th>\n",
       "      <td>...</td>\n",
       "      <td>...</td>\n",
       "    </tr>\n",
       "    <tr>\n",
       "      <th>995</th>\n",
       "      <td>2021-08-18 12:34:28</td>\n",
       "      <td>Que las marcas que hayan elegido para represen...</td>\n",
       "    </tr>\n",
       "    <tr>\n",
       "      <th>996</th>\n",
       "      <td>2021-08-18 12:34:25</td>\n",
       "      <td>@JorgeRieraLopez No parece. Vendrá todo aquí, ...</td>\n",
       "    </tr>\n",
       "    <tr>\n",
       "      <th>997</th>\n",
       "      <td>2021-08-18 12:33:51</td>\n",
       "      <td>RT @enekoruizj: En 2022, tenemos nueva platafo...</td>\n",
       "    </tr>\n",
       "    <tr>\n",
       "      <th>998</th>\n",
       "      <td>2021-08-18 12:33:37</td>\n",
       "      <td>El servicio de streaming SkyShowtime llegará a...</td>\n",
       "    </tr>\n",
       "    <tr>\n",
       "      <th>999</th>\n",
       "      <td>2021-08-18 12:33:36</td>\n",
       "      <td>RT @MissMacGuffin: El plot twist del verano en...</td>\n",
       "    </tr>\n",
       "  </tbody>\n",
       "</table>\n",
       "<p>2000 rows × 2 columns</p>\n",
       "</div>"
      ],
      "text/plain": [
       "                   Date                                              Tweet\n",
       "0   2021-08-21 04:33:06  ☀️ Zenimation de Disney+ convierte escenas clá...\n",
       "1   2021-08-21 04:25:01  Soy yo o la plataforma de disney plus está bie...\n",
       "2   2021-08-21 04:17:14  Amix, préstenme su cuenta de Disney plus y la ...\n",
       "3   2021-08-21 04:16:30  Una no puede ver una película online porque te...\n",
       "4   2021-08-21 04:13:56  @jungkookanojo omgg yo ahora veo star vs las f...\n",
       "..                  ...                                                ...\n",
       "995 2021-08-18 12:34:28  Que las marcas que hayan elegido para represen...\n",
       "996 2021-08-18 12:34:25  @JorgeRieraLopez No parece. Vendrá todo aquí, ...\n",
       "997 2021-08-18 12:33:51  RT @enekoruizj: En 2022, tenemos nueva platafo...\n",
       "998 2021-08-18 12:33:37  El servicio de streaming SkyShowtime llegará a...\n",
       "999 2021-08-18 12:33:36  RT @MissMacGuffin: El plot twist del verano en...\n",
       "\n",
       "[2000 rows x 2 columns]"
      ]
     },
     "execution_count": 60,
     "metadata": {},
     "output_type": "execute_result"
    }
   ],
   "source": [
    "#result"
   ]
  }
 ],
 "metadata": {
  "colab": {
   "collapsed_sections": [],
   "name": "Copia de BBProyecto.ipynb",
   "provenance": []
  },
  "kernelspec": {
   "display_name": "Python 3",
   "language": "python",
   "name": "python3"
  },
  "language_info": {
   "codemirror_mode": {
    "name": "ipython",
    "version": 3
   },
   "file_extension": ".py",
   "mimetype": "text/x-python",
   "name": "python",
   "nbconvert_exporter": "python",
   "pygments_lexer": "ipython3",
   "version": "3.8.5"
  }
 },
 "nbformat": 4,
 "nbformat_minor": 1
}
