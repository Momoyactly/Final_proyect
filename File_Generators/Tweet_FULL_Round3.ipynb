{
 "metadata": {
  "language_info": {
   "codemirror_mode": {
    "name": "ipython",
    "version": 3
   },
   "file_extension": ".py",
   "mimetype": "text/x-python",
   "name": "python",
   "nbconvert_exporter": "python",
   "pygments_lexer": "ipython3",
   "version": "3.8.8"
  },
  "orig_nbformat": 4,
  "kernelspec": {
   "name": "python3",
   "display_name": "Python 3.8.8 64-bit ('base': conda)"
  },
  "interpreter": {
   "hash": "5ce17d985355a66603c6a8d9df1da8712281176adfcc91eee6d0e664b498fe45"
  }
 },
 "nbformat": 4,
 "nbformat_minor": 2,
 "cells": [
  {
   "cell_type": "code",
   "execution_count": 10,
   "metadata": {},
   "outputs": [
    {
     "output_type": "stream",
     "name": "stdout",
     "text": [
      "Requirement already satisfied: tweepy in c:\\users\\prueba.000\\anaconda3\\lib\\site-packages (4.0.0a0)\nRequirement already satisfied: requests<3,>=2.11.1 in c:\\users\\prueba.000\\anaconda3\\lib\\site-packages (from tweepy) (2.25.1)\nRequirement already satisfied: requests-oauthlib<2,>=1.0.0 in c:\\users\\prueba.000\\anaconda3\\lib\\site-packages (from tweepy) (1.3.0)\nRequirement already satisfied: certifi>=2017.4.17 in c:\\users\\prueba.000\\anaconda3\\lib\\site-packages (from requests<3,>=2.11.1->tweepy) (2020.12.5)\nRequirement already satisfied: idna<3,>=2.5 in c:\\users\\prueba.000\\anaconda3\\lib\\site-packages (from requests<3,>=2.11.1->tweepy) (2.10)\nRequirement already satisfied: urllib3<1.27,>=1.21.1 in c:\\users\\prueba.000\\anaconda3\\lib\\site-packages (from requests<3,>=2.11.1->tweepy) (1.26.4)\nRequirement already satisfied: chardet<5,>=3.0.2 in c:\\users\\prueba.000\\anaconda3\\lib\\site-packages (from requests<3,>=2.11.1->tweepy) (4.0.0)\nRequirement already satisfied: oauthlib>=3.0.0 in c:\\users\\prueba.000\\anaconda3\\lib\\site-packages (from requests-oauthlib<2,>=1.0.0->tweepy) (3.1.1)\nNote: you may need to restart the kernel to use updated packages.\n"
     ]
    }
   ],
   "source": [
    "pip install tweepy"
   ]
  },
  {
   "cell_type": "code",
   "execution_count": 1,
   "metadata": {},
   "outputs": [],
   "source": [
    "# Dependencies\n",
    "from config import *\n",
    "import tweepy\n",
    "import datetime"
   ]
  },
  {
   "cell_type": "code",
   "execution_count": 3,
   "metadata": {},
   "outputs": [],
   "source": [
    "# Access\n",
    "auth = tweepy.OAuthHandler(consumer_key, consumer_secret)\n",
    "auth.set_access_token(access_token, access_secret)\n",
    "api = tweepy.API(auth,wait_on_rate_limit=True)"
   ]
  },
  {
   "cell_type": "code",
   "execution_count": null,
   "metadata": {},
   "outputs": [],
   "source": [
    "# Parameters\n",
    "number_of_tweets = 100 # Number of tweets per keyword\n",
    "date_since = '2020-04-16' #yyyy-mm-dd\n",
    "end_date = '2020-06-17' #yyyy-mm-dd\n",
    "language = 'es' # Standard language code https://en.wikipedia.org/wiki/List_of_ISO_639-1_codes\n",
    "key_words = ['Netflix','Disney Plus','Amazon Prime', 'HBO' ]\n"
   ]
  },
  {
   "cell_type": "code",
   "execution_count": null,
   "metadata": {},
   "outputs": [],
   "source": [
    "# Dev environment label robmirtest\n",
    "# API.search_full_archive(environment_name, query[, tag][, fromDate][, toDate][, maxResults][, next])\n",
    "# tweets=tweepy.Cursor(api.search_full_archive,environment_name='**ENV NAME FROM API**', \n",
    "# query=search_words, fromDate=date_since_pro).items(numTweets)\n",
    "\n",
    "tweets_list = tw.Cursor(api.search_full_archive,environment_name='robmirtest', \n",
    "query='Netflix',maxResults=10).items(2)"
   ]
  }
 ]
}